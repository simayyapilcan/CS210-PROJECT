{
 "cells": [
  {
   "cell_type": "markdown",
   "metadata": {},
   "source": [
    "# Introduction"
   ]
  },
  {
   "cell_type": "markdown",
   "metadata": {},
   "source": [
    "For my data science project, I'm diving into my own Apple Health data to see what I can learn from it. Apple Health tracks all kinds of stuff like how many steps I take, my heart rate, and how well I'm sleeping. I'll be using different data science methods to make sense of all this information.\n",
    "\n",
    "The main goal is to find interesting patterns and maybe figure out how different health activities are connected. For example, does walking more steps make my heart rate go up? Or does a good night’s sleep mean I’m more active the next day? I’ll be using basic stats and some machine learning to answer these questions.\n",
    "\n",
    "This project is not just about playing around with data. It's also about understanding my own health better and seeing if there are any changes I can make to improve it. \n",
    "\n",
    "In short, I'm using my Apple Health data to learn more about my health habits and see what the numbers can tell me about living healthier."
   ]
  },
  {
   "cell_type": "markdown",
   "metadata": {},
   "source": [
    "# Extracting the Data"
   ]
  },
  {
   "cell_type": "markdown",
   "metadata": {},
   "source": [
    "By exporting the data from the Apple Health app, exported.xml file can be used as a main data source. Since we should use pandas dataframe for the sake of simplicity, we need to extract the data from the XML file. By using \"data_collector.py\", various useful events and resources are saved as csv format files. "
   ]
  },
  {
   "cell_type": "code",
   "execution_count": null,
   "metadata": {},
   "outputs": [],
   "source": [
    "%run -i \"data_collector.py\" \"data/health.xml\" # Extracting the necessary actvities from the xml file"
   ]
  },
  {
   "cell_type": "markdown",
   "metadata": {},
   "source": [
    "# Data Preparation and Exploratory Data Analysis"
   ]
  },
  {
   "cell_type": "markdown",
   "metadata": {},
   "source": [
    "Let's discover each CSV file. Eliminate the ones with insufficient data, cleaning the data if necessary and preparing them for the future analysis."
   ]
  },
  {
   "cell_type": "code",
   "execution_count": 87,
   "metadata": {},
   "outputs": [],
   "source": [
    "# Importing Necessary libraries \n",
    "import pandas as pd\n",
    "import datetime as dt\n",
    "import matplotlib.pyplot as plt"
   ]
  },
  {
   "cell_type": "markdown",
   "metadata": {},
   "source": [
    "## Hearth Rate Data"
   ]
  },
  {
   "cell_type": "code",
   "execution_count": 88,
   "metadata": {},
   "outputs": [
    {
     "data": {
      "text/html": [
       "<div>\n",
       "<style scoped>\n",
       "    .dataframe tbody tr th:only-of-type {\n",
       "        vertical-align: middle;\n",
       "    }\n",
       "\n",
       "    .dataframe tbody tr th {\n",
       "        vertical-align: top;\n",
       "    }\n",
       "\n",
       "    .dataframe thead th {\n",
       "        text-align: right;\n",
       "    }\n",
       "</style>\n",
       "<table border=\"1\" class=\"dataframe\">\n",
       "  <thead>\n",
       "    <tr style=\"text-align: right;\">\n",
       "      <th></th>\n",
       "      <th>sourceName</th>\n",
       "      <th>sourceVersion</th>\n",
       "      <th>device</th>\n",
       "      <th>type</th>\n",
       "      <th>unit</th>\n",
       "      <th>creationDate</th>\n",
       "      <th>startDate</th>\n",
       "      <th>endDate</th>\n",
       "      <th>value</th>\n",
       "    </tr>\n",
       "  </thead>\n",
       "  <tbody>\n",
       "    <tr>\n",
       "      <th>0</th>\n",
       "      <td>Simay Apple Watch’u</td>\n",
       "      <td>9.0.2</td>\n",
       "      <td>&lt;&lt;HKDevice: 0x2836f8690&gt;, name:Apple Watch, ma...</td>\n",
       "      <td>HeartRate</td>\n",
       "      <td>count/min</td>\n",
       "      <td>2023-02-23 23:30:31 +0300</td>\n",
       "      <td>2023-02-23 23:30:24 +0300</td>\n",
       "      <td>2023-02-23 23:30:24 +0300</td>\n",
       "      <td>65.0000</td>\n",
       "    </tr>\n",
       "    <tr>\n",
       "      <th>1</th>\n",
       "      <td>Simay Apple Watch’u</td>\n",
       "      <td>9.0.2</td>\n",
       "      <td>&lt;&lt;HKDevice: 0x2836f8690&gt;, name:Apple Watch, ma...</td>\n",
       "      <td>HeartRate</td>\n",
       "      <td>count/min</td>\n",
       "      <td>2023-02-23 23:33:18 +0300</td>\n",
       "      <td>2023-02-23 23:32:05 +0300</td>\n",
       "      <td>2023-02-23 23:32:05 +0300</td>\n",
       "      <td>60.1855</td>\n",
       "    </tr>\n",
       "    <tr>\n",
       "      <th>2</th>\n",
       "      <td>Simay Apple Watch’u</td>\n",
       "      <td>9.0.2</td>\n",
       "      <td>&lt;&lt;HKDevice: 0x2836f8690&gt;, name:Apple Watch, ma...</td>\n",
       "      <td>HeartRate</td>\n",
       "      <td>count/min</td>\n",
       "      <td>2023-02-23 23:35:33 +0300</td>\n",
       "      <td>2023-02-23 23:32:39 +0300</td>\n",
       "      <td>2023-02-23 23:32:39 +0300</td>\n",
       "      <td>60.0000</td>\n",
       "    </tr>\n",
       "    <tr>\n",
       "      <th>3</th>\n",
       "      <td>Simay Apple Watch’u</td>\n",
       "      <td>9.0.2</td>\n",
       "      <td>&lt;&lt;HKDevice: 0x2836f8690&gt;, name:Apple Watch, ma...</td>\n",
       "      <td>HeartRate</td>\n",
       "      <td>count/min</td>\n",
       "      <td>2023-02-23 23:41:17 +0300</td>\n",
       "      <td>2023-02-23 23:35:56 +0300</td>\n",
       "      <td>2023-02-23 23:35:56 +0300</td>\n",
       "      <td>61.0000</td>\n",
       "    </tr>\n",
       "    <tr>\n",
       "      <th>4</th>\n",
       "      <td>Simay Apple Watch’u</td>\n",
       "      <td>9.0.2</td>\n",
       "      <td>&lt;&lt;HKDevice: 0x2836f8690&gt;, name:Apple Watch, ma...</td>\n",
       "      <td>HeartRate</td>\n",
       "      <td>count/min</td>\n",
       "      <td>2023-02-23 23:45:47 +0300</td>\n",
       "      <td>2023-02-23 23:45:14 +0300</td>\n",
       "      <td>2023-02-23 23:45:14 +0300</td>\n",
       "      <td>60.0000</td>\n",
       "    </tr>\n",
       "  </tbody>\n",
       "</table>\n",
       "</div>"
      ],
      "text/plain": [
       "            sourceName sourceVersion  \\\n",
       "0  Simay Apple Watch’u         9.0.2   \n",
       "1  Simay Apple Watch’u         9.0.2   \n",
       "2  Simay Apple Watch’u         9.0.2   \n",
       "3  Simay Apple Watch’u         9.0.2   \n",
       "4  Simay Apple Watch’u         9.0.2   \n",
       "\n",
       "                                              device       type       unit  \\\n",
       "0  <<HKDevice: 0x2836f8690>, name:Apple Watch, ma...  HeartRate  count/min   \n",
       "1  <<HKDevice: 0x2836f8690>, name:Apple Watch, ma...  HeartRate  count/min   \n",
       "2  <<HKDevice: 0x2836f8690>, name:Apple Watch, ma...  HeartRate  count/min   \n",
       "3  <<HKDevice: 0x2836f8690>, name:Apple Watch, ma...  HeartRate  count/min   \n",
       "4  <<HKDevice: 0x2836f8690>, name:Apple Watch, ma...  HeartRate  count/min   \n",
       "\n",
       "                creationDate                  startDate  \\\n",
       "0  2023-02-23 23:30:31 +0300  2023-02-23 23:30:24 +0300   \n",
       "1  2023-02-23 23:33:18 +0300  2023-02-23 23:32:05 +0300   \n",
       "2  2023-02-23 23:35:33 +0300  2023-02-23 23:32:39 +0300   \n",
       "3  2023-02-23 23:41:17 +0300  2023-02-23 23:35:56 +0300   \n",
       "4  2023-02-23 23:45:47 +0300  2023-02-23 23:45:14 +0300   \n",
       "\n",
       "                     endDate    value  \n",
       "0  2023-02-23 23:30:24 +0300  65.0000  \n",
       "1  2023-02-23 23:32:05 +0300  60.1855  \n",
       "2  2023-02-23 23:32:39 +0300  60.0000  \n",
       "3  2023-02-23 23:35:56 +0300  61.0000  \n",
       "4  2023-02-23 23:45:14 +0300  60.0000  "
      ]
     },
     "execution_count": 88,
     "metadata": {},
     "output_type": "execute_result"
    }
   ],
   "source": [
    "hearth_rate_data = pd.read_csv(\"data/HeartRate.csv\")\n",
    "hearth_rate_data.head()"
   ]
  },
  {
   "cell_type": "code",
   "execution_count": 89,
   "metadata": {},
   "outputs": [
    {
     "data": {
      "text/plain": [
       "sourceName       0\n",
       "sourceVersion    0\n",
       "device           0\n",
       "type             0\n",
       "unit             0\n",
       "creationDate     0\n",
       "startDate        0\n",
       "endDate          0\n",
       "value            0\n",
       "dtype: int64"
      ]
     },
     "execution_count": 89,
     "metadata": {},
     "output_type": "execute_result"
    }
   ],
   "source": [
    "hearth_rate_data.isnull().sum() # Checking for null values"
   ]
  },
  {
   "cell_type": "code",
   "execution_count": 90,
   "metadata": {},
   "outputs": [
    {
     "data": {
      "text/html": [
       "<div>\n",
       "<style scoped>\n",
       "    .dataframe tbody tr th:only-of-type {\n",
       "        vertical-align: middle;\n",
       "    }\n",
       "\n",
       "    .dataframe tbody tr th {\n",
       "        vertical-align: top;\n",
       "    }\n",
       "\n",
       "    .dataframe thead th {\n",
       "        text-align: right;\n",
       "    }\n",
       "</style>\n",
       "<table border=\"1\" class=\"dataframe\">\n",
       "  <thead>\n",
       "    <tr style=\"text-align: right;\">\n",
       "      <th></th>\n",
       "      <th>value</th>\n",
       "    </tr>\n",
       "  </thead>\n",
       "  <tbody>\n",
       "    <tr>\n",
       "      <th>count</th>\n",
       "      <td>40805.000000</td>\n",
       "    </tr>\n",
       "    <tr>\n",
       "      <th>mean</th>\n",
       "      <td>82.755012</td>\n",
       "    </tr>\n",
       "    <tr>\n",
       "      <th>std</th>\n",
       "      <td>23.439096</td>\n",
       "    </tr>\n",
       "    <tr>\n",
       "      <th>min</th>\n",
       "      <td>40.000000</td>\n",
       "    </tr>\n",
       "    <tr>\n",
       "      <th>25%</th>\n",
       "      <td>64.000000</td>\n",
       "    </tr>\n",
       "    <tr>\n",
       "      <th>50%</th>\n",
       "      <td>76.000000</td>\n",
       "    </tr>\n",
       "    <tr>\n",
       "      <th>75%</th>\n",
       "      <td>100.000000</td>\n",
       "    </tr>\n",
       "    <tr>\n",
       "      <th>max</th>\n",
       "      <td>177.000000</td>\n",
       "    </tr>\n",
       "  </tbody>\n",
       "</table>\n",
       "</div>"
      ],
      "text/plain": [
       "              value\n",
       "count  40805.000000\n",
       "mean      82.755012\n",
       "std       23.439096\n",
       "min       40.000000\n",
       "25%       64.000000\n",
       "50%       76.000000\n",
       "75%      100.000000\n",
       "max      177.000000"
      ]
     },
     "execution_count": 90,
     "metadata": {},
     "output_type": "execute_result"
    }
   ],
   "source": [
    "hearth_rate_data.describe() # Describing the data"
   ]
  },
  {
   "cell_type": "code",
   "execution_count": 91,
   "metadata": {},
   "outputs": [
    {
     "name": "stdout",
     "output_type": "stream",
     "text": [
      "<class 'pandas.core.frame.DataFrame'>\n",
      "RangeIndex: 40805 entries, 0 to 40804\n",
      "Data columns (total 9 columns):\n",
      " #   Column         Non-Null Count  Dtype  \n",
      "---  ------         --------------  -----  \n",
      " 0   sourceName     40805 non-null  object \n",
      " 1   sourceVersion  40805 non-null  object \n",
      " 2   device         40805 non-null  object \n",
      " 3   type           40805 non-null  object \n",
      " 4   unit           40805 non-null  object \n",
      " 5   creationDate   40805 non-null  object \n",
      " 6   startDate      40805 non-null  object \n",
      " 7   endDate        40805 non-null  object \n",
      " 8   value          40805 non-null  float64\n",
      "dtypes: float64(1), object(8)\n",
      "memory usage: 2.8+ MB\n"
     ]
    }
   ],
   "source": [
    "hearth_rate_data.info() # Checking the data type of each column"
   ]
  },
  {
   "cell_type": "code",
   "execution_count": 92,
   "metadata": {},
   "outputs": [
    {
     "data": {
      "text/plain": [
       "(40805, 9)"
      ]
     },
     "execution_count": 92,
     "metadata": {},
     "output_type": "execute_result"
    }
   ],
   "source": [
    "hearth_rate_data.shape # Checking the shape of the data"
   ]
  },
  {
   "cell_type": "code",
   "execution_count": 93,
   "metadata": {},
   "outputs": [
    {
     "data": {
      "text/html": [
       "<div>\n",
       "<style scoped>\n",
       "    .dataframe tbody tr th:only-of-type {\n",
       "        vertical-align: middle;\n",
       "    }\n",
       "\n",
       "    .dataframe tbody tr th {\n",
       "        vertical-align: top;\n",
       "    }\n",
       "\n",
       "    .dataframe thead th {\n",
       "        text-align: right;\n",
       "    }\n",
       "</style>\n",
       "<table border=\"1\" class=\"dataframe\">\n",
       "  <thead>\n",
       "    <tr style=\"text-align: right;\">\n",
       "      <th></th>\n",
       "      <th>startDate</th>\n",
       "      <th>value</th>\n",
       "    </tr>\n",
       "  </thead>\n",
       "  <tbody>\n",
       "    <tr>\n",
       "      <th>0</th>\n",
       "      <td>2023-02-23</td>\n",
       "      <td>60.024922</td>\n",
       "    </tr>\n",
       "    <tr>\n",
       "      <th>1</th>\n",
       "      <td>2023-02-24</td>\n",
       "      <td>60.000000</td>\n",
       "    </tr>\n",
       "    <tr>\n",
       "      <th>2</th>\n",
       "      <td>2023-02-25</td>\n",
       "      <td>79.250000</td>\n",
       "    </tr>\n",
       "    <tr>\n",
       "      <th>3</th>\n",
       "      <td>2023-03-26</td>\n",
       "      <td>83.900379</td>\n",
       "    </tr>\n",
       "    <tr>\n",
       "      <th>4</th>\n",
       "      <td>2023-03-28</td>\n",
       "      <td>98.482994</td>\n",
       "    </tr>\n",
       "  </tbody>\n",
       "</table>\n",
       "</div>"
      ],
      "text/plain": [
       "    startDate      value\n",
       "0  2023-02-23  60.024922\n",
       "1  2023-02-24  60.000000\n",
       "2  2023-02-25  79.250000\n",
       "3  2023-03-26  83.900379\n",
       "4  2023-03-28  98.482994"
      ]
     },
     "execution_count": 93,
     "metadata": {},
     "output_type": "execute_result"
    }
   ],
   "source": [
    "#Lets convert the date column to datetime format\n",
    "hearth_rate_data['startDate'] = pd.to_datetime(hearth_rate_data['startDate'])\n",
    "# Now grouping the data by date and taking the mean of the values\n",
    "hearth_rate_data['startDate'] = hearth_rate_data['startDate'].dt.date\n",
    "hearth_rate_data = hearth_rate_data.groupby('startDate').mean() # Grouping the data by date and taking the mean of the values\n",
    "hearth_rate_data.reset_index(inplace=True) # Resetting the index\n",
    "hearth_rate_data.head()"
   ]
  },
  {
   "cell_type": "markdown",
   "metadata": {},
   "source": [
    "## Physical Activity Data"
   ]
  },
  {
   "cell_type": "markdown",
   "metadata": {},
   "source": [
    "### Daily Steps"
   ]
  },
  {
   "cell_type": "code",
   "execution_count": 94,
   "metadata": {},
   "outputs": [
    {
     "data": {
      "text/html": [
       "<div>\n",
       "<style scoped>\n",
       "    .dataframe tbody tr th:only-of-type {\n",
       "        vertical-align: middle;\n",
       "    }\n",
       "\n",
       "    .dataframe tbody tr th {\n",
       "        vertical-align: top;\n",
       "    }\n",
       "\n",
       "    .dataframe thead th {\n",
       "        text-align: right;\n",
       "    }\n",
       "</style>\n",
       "<table border=\"1\" class=\"dataframe\">\n",
       "  <thead>\n",
       "    <tr style=\"text-align: right;\">\n",
       "      <th></th>\n",
       "      <th>sourceName</th>\n",
       "      <th>sourceVersion</th>\n",
       "      <th>device</th>\n",
       "      <th>type</th>\n",
       "      <th>unit</th>\n",
       "      <th>creationDate</th>\n",
       "      <th>startDate</th>\n",
       "      <th>endDate</th>\n",
       "      <th>value</th>\n",
       "    </tr>\n",
       "  </thead>\n",
       "  <tbody>\n",
       "    <tr>\n",
       "      <th>0</th>\n",
       "      <td>Simay</td>\n",
       "      <td>11.4.1</td>\n",
       "      <td>&lt;&lt;HKDevice: 0x2836f82d0&gt;, name:iPhone, manufac...</td>\n",
       "      <td>StepCount</td>\n",
       "      <td>count</td>\n",
       "      <td>2018-08-10 20:32:16 +0300</td>\n",
       "      <td>2018-08-10 16:40:07 +0300</td>\n",
       "      <td>2018-08-10 16:46:09 +0300</td>\n",
       "      <td>10</td>\n",
       "    </tr>\n",
       "    <tr>\n",
       "      <th>1</th>\n",
       "      <td>Simay</td>\n",
       "      <td>11.4.1</td>\n",
       "      <td>&lt;&lt;HKDevice: 0x2836f82d0&gt;, name:iPhone, manufac...</td>\n",
       "      <td>StepCount</td>\n",
       "      <td>count</td>\n",
       "      <td>2018-08-10 20:32:16 +0300</td>\n",
       "      <td>2018-08-10 16:46:09 +0300</td>\n",
       "      <td>2018-08-10 16:55:28 +0300</td>\n",
       "      <td>81</td>\n",
       "    </tr>\n",
       "    <tr>\n",
       "      <th>2</th>\n",
       "      <td>Simay</td>\n",
       "      <td>11.4.1</td>\n",
       "      <td>&lt;&lt;HKDevice: 0x2836f82d0&gt;, name:iPhone, manufac...</td>\n",
       "      <td>StepCount</td>\n",
       "      <td>count</td>\n",
       "      <td>2018-08-10 20:32:16 +0300</td>\n",
       "      <td>2018-08-10 17:35:44 +0300</td>\n",
       "      <td>2018-08-10 17:43:53 +0300</td>\n",
       "      <td>14</td>\n",
       "    </tr>\n",
       "    <tr>\n",
       "      <th>3</th>\n",
       "      <td>Simay</td>\n",
       "      <td>11.4.1</td>\n",
       "      <td>&lt;&lt;HKDevice: 0x2836f82d0&gt;, name:iPhone, manufac...</td>\n",
       "      <td>StepCount</td>\n",
       "      <td>count</td>\n",
       "      <td>2018-08-10 20:32:16 +0300</td>\n",
       "      <td>2018-08-10 17:48:41 +0300</td>\n",
       "      <td>2018-08-10 17:55:17 +0300</td>\n",
       "      <td>9</td>\n",
       "    </tr>\n",
       "    <tr>\n",
       "      <th>4</th>\n",
       "      <td>Simay</td>\n",
       "      <td>11.4.1</td>\n",
       "      <td>&lt;&lt;HKDevice: 0x2836f82d0&gt;, name:iPhone, manufac...</td>\n",
       "      <td>StepCount</td>\n",
       "      <td>count</td>\n",
       "      <td>2018-08-10 20:32:16 +0300</td>\n",
       "      <td>2018-08-10 18:05:17 +0300</td>\n",
       "      <td>2018-08-10 18:07:45 +0300</td>\n",
       "      <td>139</td>\n",
       "    </tr>\n",
       "  </tbody>\n",
       "</table>\n",
       "</div>"
      ],
      "text/plain": [
       "  sourceName sourceVersion                                             device  \\\n",
       "0      Simay        11.4.1  <<HKDevice: 0x2836f82d0>, name:iPhone, manufac...   \n",
       "1      Simay        11.4.1  <<HKDevice: 0x2836f82d0>, name:iPhone, manufac...   \n",
       "2      Simay        11.4.1  <<HKDevice: 0x2836f82d0>, name:iPhone, manufac...   \n",
       "3      Simay        11.4.1  <<HKDevice: 0x2836f82d0>, name:iPhone, manufac...   \n",
       "4      Simay        11.4.1  <<HKDevice: 0x2836f82d0>, name:iPhone, manufac...   \n",
       "\n",
       "        type   unit               creationDate                  startDate  \\\n",
       "0  StepCount  count  2018-08-10 20:32:16 +0300  2018-08-10 16:40:07 +0300   \n",
       "1  StepCount  count  2018-08-10 20:32:16 +0300  2018-08-10 16:46:09 +0300   \n",
       "2  StepCount  count  2018-08-10 20:32:16 +0300  2018-08-10 17:35:44 +0300   \n",
       "3  StepCount  count  2018-08-10 20:32:16 +0300  2018-08-10 17:48:41 +0300   \n",
       "4  StepCount  count  2018-08-10 20:32:16 +0300  2018-08-10 18:05:17 +0300   \n",
       "\n",
       "                     endDate  value  \n",
       "0  2018-08-10 16:46:09 +0300     10  \n",
       "1  2018-08-10 16:55:28 +0300     81  \n",
       "2  2018-08-10 17:43:53 +0300     14  \n",
       "3  2018-08-10 17:55:17 +0300      9  \n",
       "4  2018-08-10 18:07:45 +0300    139  "
      ]
     },
     "execution_count": 94,
     "metadata": {},
     "output_type": "execute_result"
    }
   ],
   "source": [
    "steps_data = pd.read_csv(\"data/StepCount.csv\")\n",
    "steps_data.head()"
   ]
  },
  {
   "cell_type": "code",
   "execution_count": 95,
   "metadata": {},
   "outputs": [
    {
     "data": {
      "text/plain": [
       "sourceName       0\n",
       "sourceVersion    0\n",
       "device           0\n",
       "type             0\n",
       "unit             0\n",
       "creationDate     0\n",
       "startDate        0\n",
       "endDate          0\n",
       "value            0\n",
       "dtype: int64"
      ]
     },
     "execution_count": 95,
     "metadata": {},
     "output_type": "execute_result"
    }
   ],
   "source": [
    "steps_data.isnull().sum() # Checking for null values"
   ]
  },
  {
   "cell_type": "code",
   "execution_count": 96,
   "metadata": {},
   "outputs": [
    {
     "name": "stdout",
     "output_type": "stream",
     "text": [
      "<class 'pandas.core.frame.DataFrame'>\n",
      "RangeIndex: 42518 entries, 0 to 42517\n",
      "Data columns (total 9 columns):\n",
      " #   Column         Non-Null Count  Dtype \n",
      "---  ------         --------------  ----- \n",
      " 0   sourceName     42518 non-null  object\n",
      " 1   sourceVersion  42518 non-null  object\n",
      " 2   device         42518 non-null  object\n",
      " 3   type           42518 non-null  object\n",
      " 4   unit           42518 non-null  object\n",
      " 5   creationDate   42518 non-null  object\n",
      " 6   startDate      42518 non-null  object\n",
      " 7   endDate        42518 non-null  object\n",
      " 8   value          42518 non-null  int64 \n",
      "dtypes: int64(1), object(8)\n",
      "memory usage: 2.9+ MB\n"
     ]
    }
   ],
   "source": [
    "steps_data.info() # Checking the data type of each column"
   ]
  },
  {
   "cell_type": "code",
   "execution_count": 97,
   "metadata": {},
   "outputs": [
    {
     "data": {
      "text/plain": [
       "(42518, 9)"
      ]
     },
     "execution_count": 97,
     "metadata": {},
     "output_type": "execute_result"
    }
   ],
   "source": [
    "steps_data.shape # Checking the shape of the data"
   ]
  },
  {
   "cell_type": "markdown",
   "metadata": {},
   "source": [
    "Steps data collected the number of steps per session. Hence I will group them as a day. First, lets modify the date object using datetime library."
   ]
  },
  {
   "cell_type": "code",
   "execution_count": 98,
   "metadata": {},
   "outputs": [
    {
     "data": {
      "text/plain": [
       "0        2018-08-10\n",
       "1        2018-08-10\n",
       "2        2018-08-10\n",
       "3        2018-08-10\n",
       "4        2018-08-10\n",
       "            ...    \n",
       "42513    2023-12-08\n",
       "42514    2023-12-08\n",
       "42515    2023-12-08\n",
       "42516    2023-12-08\n",
       "42517    2023-12-09\n",
       "Name: startDate, Length: 42518, dtype: object"
      ]
     },
     "execution_count": 98,
     "metadata": {},
     "output_type": "execute_result"
    }
   ],
   "source": [
    "steps_data[\"startDate\"] = pd.to_datetime(steps_data[\"startDate\"]) # Converting the StartDate column to datetime format\n",
    "steps_data[\"startDate\"] = steps_data[\"startDate\"].dt.date # Extracting the date from the datetime format\n",
    "steps_data[\"startDate\"]"
   ]
  },
  {
   "cell_type": "code",
   "execution_count": 99,
   "metadata": {},
   "outputs": [],
   "source": [
    "steps_data = steps_data.groupby(\"startDate\").sum() # Grouping the data by date and summing the steps\n",
    "steps_data.reset_index(inplace=True) # Resetting the index"
   ]
  },
  {
   "cell_type": "code",
   "execution_count": 100,
   "metadata": {},
   "outputs": [
    {
     "data": {
      "text/html": [
       "<div>\n",
       "<style scoped>\n",
       "    .dataframe tbody tr th:only-of-type {\n",
       "        vertical-align: middle;\n",
       "    }\n",
       "\n",
       "    .dataframe tbody tr th {\n",
       "        vertical-align: top;\n",
       "    }\n",
       "\n",
       "    .dataframe thead th {\n",
       "        text-align: right;\n",
       "    }\n",
       "</style>\n",
       "<table border=\"1\" class=\"dataframe\">\n",
       "  <thead>\n",
       "    <tr style=\"text-align: right;\">\n",
       "      <th></th>\n",
       "      <th>startDate</th>\n",
       "      <th>value</th>\n",
       "    </tr>\n",
       "  </thead>\n",
       "  <tbody>\n",
       "    <tr>\n",
       "      <th>0</th>\n",
       "      <td>2018-06-27</td>\n",
       "      <td>337</td>\n",
       "    </tr>\n",
       "    <tr>\n",
       "      <th>1</th>\n",
       "      <td>2018-06-28</td>\n",
       "      <td>962</td>\n",
       "    </tr>\n",
       "    <tr>\n",
       "      <th>2</th>\n",
       "      <td>2018-06-29</td>\n",
       "      <td>1027</td>\n",
       "    </tr>\n",
       "    <tr>\n",
       "      <th>3</th>\n",
       "      <td>2018-06-30</td>\n",
       "      <td>757</td>\n",
       "    </tr>\n",
       "    <tr>\n",
       "      <th>4</th>\n",
       "      <td>2018-07-01</td>\n",
       "      <td>1810</td>\n",
       "    </tr>\n",
       "    <tr>\n",
       "      <th>...</th>\n",
       "      <td>...</td>\n",
       "      <td>...</td>\n",
       "    </tr>\n",
       "    <tr>\n",
       "      <th>1980</th>\n",
       "      <td>2023-12-05</td>\n",
       "      <td>4510</td>\n",
       "    </tr>\n",
       "    <tr>\n",
       "      <th>1981</th>\n",
       "      <td>2023-12-06</td>\n",
       "      <td>2722</td>\n",
       "    </tr>\n",
       "    <tr>\n",
       "      <th>1982</th>\n",
       "      <td>2023-12-07</td>\n",
       "      <td>2167</td>\n",
       "    </tr>\n",
       "    <tr>\n",
       "      <th>1983</th>\n",
       "      <td>2023-12-08</td>\n",
       "      <td>4269</td>\n",
       "    </tr>\n",
       "    <tr>\n",
       "      <th>1984</th>\n",
       "      <td>2023-12-09</td>\n",
       "      <td>116</td>\n",
       "    </tr>\n",
       "  </tbody>\n",
       "</table>\n",
       "<p>1985 rows × 2 columns</p>\n",
       "</div>"
      ],
      "text/plain": [
       "       startDate  value\n",
       "0     2018-06-27    337\n",
       "1     2018-06-28    962\n",
       "2     2018-06-29   1027\n",
       "3     2018-06-30    757\n",
       "4     2018-07-01   1810\n",
       "...          ...    ...\n",
       "1980  2023-12-05   4510\n",
       "1981  2023-12-06   2722\n",
       "1982  2023-12-07   2167\n",
       "1983  2023-12-08   4269\n",
       "1984  2023-12-09    116\n",
       "\n",
       "[1985 rows x 2 columns]"
      ]
     },
     "execution_count": 100,
     "metadata": {},
     "output_type": "execute_result"
    }
   ],
   "source": [
    "steps_data # Displaying the daily steps"
   ]
  },
  {
   "cell_type": "code",
   "execution_count": 101,
   "metadata": {},
   "outputs": [
    {
     "data": {
      "text/html": [
       "<div>\n",
       "<style scoped>\n",
       "    .dataframe tbody tr th:only-of-type {\n",
       "        vertical-align: middle;\n",
       "    }\n",
       "\n",
       "    .dataframe tbody tr th {\n",
       "        vertical-align: top;\n",
       "    }\n",
       "\n",
       "    .dataframe thead th {\n",
       "        text-align: right;\n",
       "    }\n",
       "</style>\n",
       "<table border=\"1\" class=\"dataframe\">\n",
       "  <thead>\n",
       "    <tr style=\"text-align: right;\">\n",
       "      <th></th>\n",
       "      <th>value</th>\n",
       "    </tr>\n",
       "  </thead>\n",
       "  <tbody>\n",
       "    <tr>\n",
       "      <th>count</th>\n",
       "      <td>1985.000000</td>\n",
       "    </tr>\n",
       "    <tr>\n",
       "      <th>mean</th>\n",
       "      <td>3155.705290</td>\n",
       "    </tr>\n",
       "    <tr>\n",
       "      <th>std</th>\n",
       "      <td>3527.810923</td>\n",
       "    </tr>\n",
       "    <tr>\n",
       "      <th>min</th>\n",
       "      <td>5.000000</td>\n",
       "    </tr>\n",
       "    <tr>\n",
       "      <th>25%</th>\n",
       "      <td>272.000000</td>\n",
       "    </tr>\n",
       "    <tr>\n",
       "      <th>50%</th>\n",
       "      <td>1901.000000</td>\n",
       "    </tr>\n",
       "    <tr>\n",
       "      <th>75%</th>\n",
       "      <td>5041.000000</td>\n",
       "    </tr>\n",
       "    <tr>\n",
       "      <th>max</th>\n",
       "      <td>29661.000000</td>\n",
       "    </tr>\n",
       "  </tbody>\n",
       "</table>\n",
       "</div>"
      ],
      "text/plain": [
       "              value\n",
       "count   1985.000000\n",
       "mean    3155.705290\n",
       "std     3527.810923\n",
       "min        5.000000\n",
       "25%      272.000000\n",
       "50%     1901.000000\n",
       "75%     5041.000000\n",
       "max    29661.000000"
      ]
     },
     "execution_count": 101,
     "metadata": {},
     "output_type": "execute_result"
    }
   ],
   "source": [
    "steps_data.describe() # Describing the data"
   ]
  },
  {
   "cell_type": "markdown",
   "metadata": {},
   "source": [
    "### Walking + Running Distance"
   ]
  },
  {
   "cell_type": "code",
   "execution_count": 102,
   "metadata": {},
   "outputs": [
    {
     "data": {
      "text/html": [
       "<div>\n",
       "<style scoped>\n",
       "    .dataframe tbody tr th:only-of-type {\n",
       "        vertical-align: middle;\n",
       "    }\n",
       "\n",
       "    .dataframe tbody tr th {\n",
       "        vertical-align: top;\n",
       "    }\n",
       "\n",
       "    .dataframe thead th {\n",
       "        text-align: right;\n",
       "    }\n",
       "</style>\n",
       "<table border=\"1\" class=\"dataframe\">\n",
       "  <thead>\n",
       "    <tr style=\"text-align: right;\">\n",
       "      <th></th>\n",
       "      <th>sourceName</th>\n",
       "      <th>sourceVersion</th>\n",
       "      <th>device</th>\n",
       "      <th>type</th>\n",
       "      <th>unit</th>\n",
       "      <th>creationDate</th>\n",
       "      <th>startDate</th>\n",
       "      <th>endDate</th>\n",
       "      <th>value</th>\n",
       "    </tr>\n",
       "  </thead>\n",
       "  <tbody>\n",
       "    <tr>\n",
       "      <th>0</th>\n",
       "      <td>Simay</td>\n",
       "      <td>11.4.1</td>\n",
       "      <td>&lt;&lt;HKDevice: 0x28365e9e0&gt;, name:iPhone, manufac...</td>\n",
       "      <td>DistanceWalkingRunning</td>\n",
       "      <td>km</td>\n",
       "      <td>2018-08-10 20:32:16 +0300</td>\n",
       "      <td>2018-08-10 16:40:07 +0300</td>\n",
       "      <td>2018-08-10 16:46:09 +0300</td>\n",
       "      <td>0.00520</td>\n",
       "    </tr>\n",
       "    <tr>\n",
       "      <th>1</th>\n",
       "      <td>Simay</td>\n",
       "      <td>11.4.1</td>\n",
       "      <td>&lt;&lt;HKDevice: 0x28365e9e0&gt;, name:iPhone, manufac...</td>\n",
       "      <td>DistanceWalkingRunning</td>\n",
       "      <td>km</td>\n",
       "      <td>2018-08-10 20:32:16 +0300</td>\n",
       "      <td>2018-08-10 16:46:09 +0300</td>\n",
       "      <td>2018-08-10 16:55:28 +0300</td>\n",
       "      <td>0.06708</td>\n",
       "    </tr>\n",
       "    <tr>\n",
       "      <th>2</th>\n",
       "      <td>Simay</td>\n",
       "      <td>11.4.1</td>\n",
       "      <td>&lt;&lt;HKDevice: 0x28365e9e0&gt;, name:iPhone, manufac...</td>\n",
       "      <td>DistanceWalkingRunning</td>\n",
       "      <td>km</td>\n",
       "      <td>2018-08-10 20:32:16 +0300</td>\n",
       "      <td>2018-08-10 17:35:44 +0300</td>\n",
       "      <td>2018-08-10 17:43:53 +0300</td>\n",
       "      <td>0.00982</td>\n",
       "    </tr>\n",
       "    <tr>\n",
       "      <th>3</th>\n",
       "      <td>Simay</td>\n",
       "      <td>11.4.1</td>\n",
       "      <td>&lt;&lt;HKDevice: 0x28365e9e0&gt;, name:iPhone, manufac...</td>\n",
       "      <td>DistanceWalkingRunning</td>\n",
       "      <td>km</td>\n",
       "      <td>2018-08-10 20:32:16 +0300</td>\n",
       "      <td>2018-08-10 17:48:41 +0300</td>\n",
       "      <td>2018-08-10 17:55:17 +0300</td>\n",
       "      <td>0.00648</td>\n",
       "    </tr>\n",
       "    <tr>\n",
       "      <th>4</th>\n",
       "      <td>Simay</td>\n",
       "      <td>11.4.1</td>\n",
       "      <td>&lt;&lt;HKDevice: 0x28365e9e0&gt;, name:iPhone, manufac...</td>\n",
       "      <td>DistanceWalkingRunning</td>\n",
       "      <td>km</td>\n",
       "      <td>2018-08-10 20:32:16 +0300</td>\n",
       "      <td>2018-08-10 18:05:17 +0300</td>\n",
       "      <td>2018-08-10 18:07:45 +0300</td>\n",
       "      <td>0.10153</td>\n",
       "    </tr>\n",
       "  </tbody>\n",
       "</table>\n",
       "</div>"
      ],
      "text/plain": [
       "  sourceName sourceVersion                                             device  \\\n",
       "0      Simay        11.4.1  <<HKDevice: 0x28365e9e0>, name:iPhone, manufac...   \n",
       "1      Simay        11.4.1  <<HKDevice: 0x28365e9e0>, name:iPhone, manufac...   \n",
       "2      Simay        11.4.1  <<HKDevice: 0x28365e9e0>, name:iPhone, manufac...   \n",
       "3      Simay        11.4.1  <<HKDevice: 0x28365e9e0>, name:iPhone, manufac...   \n",
       "4      Simay        11.4.1  <<HKDevice: 0x28365e9e0>, name:iPhone, manufac...   \n",
       "\n",
       "                     type unit               creationDate  \\\n",
       "0  DistanceWalkingRunning   km  2018-08-10 20:32:16 +0300   \n",
       "1  DistanceWalkingRunning   km  2018-08-10 20:32:16 +0300   \n",
       "2  DistanceWalkingRunning   km  2018-08-10 20:32:16 +0300   \n",
       "3  DistanceWalkingRunning   km  2018-08-10 20:32:16 +0300   \n",
       "4  DistanceWalkingRunning   km  2018-08-10 20:32:16 +0300   \n",
       "\n",
       "                   startDate                    endDate    value  \n",
       "0  2018-08-10 16:40:07 +0300  2018-08-10 16:46:09 +0300  0.00520  \n",
       "1  2018-08-10 16:46:09 +0300  2018-08-10 16:55:28 +0300  0.06708  \n",
       "2  2018-08-10 17:35:44 +0300  2018-08-10 17:43:53 +0300  0.00982  \n",
       "3  2018-08-10 17:48:41 +0300  2018-08-10 17:55:17 +0300  0.00648  \n",
       "4  2018-08-10 18:05:17 +0300  2018-08-10 18:07:45 +0300  0.10153  "
      ]
     },
     "execution_count": 102,
     "metadata": {},
     "output_type": "execute_result"
    }
   ],
   "source": [
    "walk_run_data = pd.read_csv(\"data/DistanceWalkingRunning.csv\")\n",
    "walk_run_data.head()"
   ]
  },
  {
   "cell_type": "code",
   "execution_count": 103,
   "metadata": {},
   "outputs": [
    {
     "data": {
      "text/plain": [
       "sourceName       0\n",
       "sourceVersion    0\n",
       "device           0\n",
       "type             0\n",
       "unit             0\n",
       "creationDate     0\n",
       "startDate        0\n",
       "endDate          0\n",
       "value            0\n",
       "dtype: int64"
      ]
     },
     "execution_count": 103,
     "metadata": {},
     "output_type": "execute_result"
    }
   ],
   "source": [
    "walk_run_data.isnull().sum() # Checking for null values"
   ]
  },
  {
   "cell_type": "code",
   "execution_count": 104,
   "metadata": {},
   "outputs": [
    {
     "name": "stdout",
     "output_type": "stream",
     "text": [
      "<class 'pandas.core.frame.DataFrame'>\n",
      "RangeIndex: 47021 entries, 0 to 47020\n",
      "Data columns (total 9 columns):\n",
      " #   Column         Non-Null Count  Dtype  \n",
      "---  ------         --------------  -----  \n",
      " 0   sourceName     47021 non-null  object \n",
      " 1   sourceVersion  47021 non-null  object \n",
      " 2   device         47021 non-null  object \n",
      " 3   type           47021 non-null  object \n",
      " 4   unit           47021 non-null  object \n",
      " 5   creationDate   47021 non-null  object \n",
      " 6   startDate      47021 non-null  object \n",
      " 7   endDate        47021 non-null  object \n",
      " 8   value          47021 non-null  float64\n",
      "dtypes: float64(1), object(8)\n",
      "memory usage: 3.2+ MB\n"
     ]
    }
   ],
   "source": [
    "walk_run_data.info() # Checking the data type of each column"
   ]
  },
  {
   "cell_type": "code",
   "execution_count": 105,
   "metadata": {},
   "outputs": [
    {
     "data": {
      "text/plain": [
       "(47021, 9)"
      ]
     },
     "execution_count": 105,
     "metadata": {},
     "output_type": "execute_result"
    }
   ],
   "source": [
    "walk_run_data.shape # Checking the shape of the data"
   ]
  },
  {
   "cell_type": "code",
   "execution_count": 106,
   "metadata": {},
   "outputs": [
    {
     "data": {
      "text/html": [
       "<div>\n",
       "<style scoped>\n",
       "    .dataframe tbody tr th:only-of-type {\n",
       "        vertical-align: middle;\n",
       "    }\n",
       "\n",
       "    .dataframe tbody tr th {\n",
       "        vertical-align: top;\n",
       "    }\n",
       "\n",
       "    .dataframe thead th {\n",
       "        text-align: right;\n",
       "    }\n",
       "</style>\n",
       "<table border=\"1\" class=\"dataframe\">\n",
       "  <thead>\n",
       "    <tr style=\"text-align: right;\">\n",
       "      <th></th>\n",
       "      <th>startDate</th>\n",
       "      <th>value</th>\n",
       "    </tr>\n",
       "  </thead>\n",
       "  <tbody>\n",
       "    <tr>\n",
       "      <th>0</th>\n",
       "      <td>2018-06-27</td>\n",
       "      <td>0.23440</td>\n",
       "    </tr>\n",
       "    <tr>\n",
       "      <th>1</th>\n",
       "      <td>2018-06-28</td>\n",
       "      <td>0.66347</td>\n",
       "    </tr>\n",
       "    <tr>\n",
       "      <th>2</th>\n",
       "      <td>2018-06-29</td>\n",
       "      <td>0.75357</td>\n",
       "    </tr>\n",
       "    <tr>\n",
       "      <th>3</th>\n",
       "      <td>2018-06-30</td>\n",
       "      <td>0.56403</td>\n",
       "    </tr>\n",
       "    <tr>\n",
       "      <th>4</th>\n",
       "      <td>2018-07-01</td>\n",
       "      <td>1.19600</td>\n",
       "    </tr>\n",
       "  </tbody>\n",
       "</table>\n",
       "</div>"
      ],
      "text/plain": [
       "    startDate    value\n",
       "0  2018-06-27  0.23440\n",
       "1  2018-06-28  0.66347\n",
       "2  2018-06-29  0.75357\n",
       "3  2018-06-30  0.56403\n",
       "4  2018-07-01  1.19600"
      ]
     },
     "execution_count": 106,
     "metadata": {},
     "output_type": "execute_result"
    }
   ],
   "source": [
    "walk_run_data[\"startDate\"] = pd.to_datetime(walk_run_data[\"startDate\"]) # Converting the StartDate column to datetime format\n",
    "walk_run_data[\"startDate\"] = walk_run_data[\"startDate\"].dt.date # Extracting the date from the datetime format\n",
    "walk_run_data = walk_run_data.groupby(\"startDate\").sum() # Grouping the data by date and summing the distance\n",
    "walk_run_data.reset_index(inplace=True)\n",
    "walk_run_data.head()"
   ]
  },
  {
   "cell_type": "code",
   "execution_count": 107,
   "metadata": {},
   "outputs": [
    {
     "data": {
      "text/html": [
       "<div>\n",
       "<style scoped>\n",
       "    .dataframe tbody tr th:only-of-type {\n",
       "        vertical-align: middle;\n",
       "    }\n",
       "\n",
       "    .dataframe tbody tr th {\n",
       "        vertical-align: top;\n",
       "    }\n",
       "\n",
       "    .dataframe thead th {\n",
       "        text-align: right;\n",
       "    }\n",
       "</style>\n",
       "<table border=\"1\" class=\"dataframe\">\n",
       "  <thead>\n",
       "    <tr style=\"text-align: right;\">\n",
       "      <th></th>\n",
       "      <th>value</th>\n",
       "    </tr>\n",
       "  </thead>\n",
       "  <tbody>\n",
       "    <tr>\n",
       "      <th>count</th>\n",
       "      <td>1985.000000</td>\n",
       "    </tr>\n",
       "    <tr>\n",
       "      <th>mean</th>\n",
       "      <td>2.319274</td>\n",
       "    </tr>\n",
       "    <tr>\n",
       "      <th>std</th>\n",
       "      <td>2.605575</td>\n",
       "    </tr>\n",
       "    <tr>\n",
       "      <th>min</th>\n",
       "      <td>0.003420</td>\n",
       "    </tr>\n",
       "    <tr>\n",
       "      <th>25%</th>\n",
       "      <td>0.190930</td>\n",
       "    </tr>\n",
       "    <tr>\n",
       "      <th>50%</th>\n",
       "      <td>1.385360</td>\n",
       "    </tr>\n",
       "    <tr>\n",
       "      <th>75%</th>\n",
       "      <td>3.726270</td>\n",
       "    </tr>\n",
       "    <tr>\n",
       "      <th>max</th>\n",
       "      <td>21.645289</td>\n",
       "    </tr>\n",
       "  </tbody>\n",
       "</table>\n",
       "</div>"
      ],
      "text/plain": [
       "             value\n",
       "count  1985.000000\n",
       "mean      2.319274\n",
       "std       2.605575\n",
       "min       0.003420\n",
       "25%       0.190930\n",
       "50%       1.385360\n",
       "75%       3.726270\n",
       "max      21.645289"
      ]
     },
     "execution_count": 107,
     "metadata": {},
     "output_type": "execute_result"
    }
   ],
   "source": [
    "walk_run_data.describe() # Describing the data"
   ]
  },
  {
   "cell_type": "markdown",
   "metadata": {},
   "source": [
    "### Flights Climbed"
   ]
  },
  {
   "cell_type": "code",
   "execution_count": 108,
   "metadata": {},
   "outputs": [
    {
     "data": {
      "text/html": [
       "<div>\n",
       "<style scoped>\n",
       "    .dataframe tbody tr th:only-of-type {\n",
       "        vertical-align: middle;\n",
       "    }\n",
       "\n",
       "    .dataframe tbody tr th {\n",
       "        vertical-align: top;\n",
       "    }\n",
       "\n",
       "    .dataframe thead th {\n",
       "        text-align: right;\n",
       "    }\n",
       "</style>\n",
       "<table border=\"1\" class=\"dataframe\">\n",
       "  <thead>\n",
       "    <tr style=\"text-align: right;\">\n",
       "      <th></th>\n",
       "      <th>sourceName</th>\n",
       "      <th>sourceVersion</th>\n",
       "      <th>device</th>\n",
       "      <th>type</th>\n",
       "      <th>unit</th>\n",
       "      <th>creationDate</th>\n",
       "      <th>startDate</th>\n",
       "      <th>endDate</th>\n",
       "      <th>value</th>\n",
       "    </tr>\n",
       "  </thead>\n",
       "  <tbody>\n",
       "    <tr>\n",
       "      <th>0</th>\n",
       "      <td>Simay</td>\n",
       "      <td>11.4.1</td>\n",
       "      <td>&lt;&lt;HKDevice: 0x283600550&gt;, name:iPhone, manufac...</td>\n",
       "      <td>FlightsClimbed</td>\n",
       "      <td>count</td>\n",
       "      <td>2018-08-11 15:24:11 +0300</td>\n",
       "      <td>2018-08-11 14:12:24 +0300</td>\n",
       "      <td>2018-08-11 14:12:24 +0300</td>\n",
       "      <td>1</td>\n",
       "    </tr>\n",
       "    <tr>\n",
       "      <th>1</th>\n",
       "      <td>Simay</td>\n",
       "      <td>11.4.1</td>\n",
       "      <td>&lt;&lt;HKDevice: 0x283600550&gt;, name:iPhone, manufac...</td>\n",
       "      <td>FlightsClimbed</td>\n",
       "      <td>count</td>\n",
       "      <td>2018-08-18 20:44:11 +0300</td>\n",
       "      <td>2018-08-18 19:56:58 +0300</td>\n",
       "      <td>2018-08-18 19:56:58 +0300</td>\n",
       "      <td>1</td>\n",
       "    </tr>\n",
       "    <tr>\n",
       "      <th>2</th>\n",
       "      <td>Simay</td>\n",
       "      <td>11.4.1</td>\n",
       "      <td>&lt;&lt;HKDevice: 0x283600550&gt;, name:iPhone, manufac...</td>\n",
       "      <td>FlightsClimbed</td>\n",
       "      <td>count</td>\n",
       "      <td>2018-08-19 20:20:05 +0300</td>\n",
       "      <td>2018-08-19 19:36:38 +0300</td>\n",
       "      <td>2018-08-19 19:36:38 +0300</td>\n",
       "      <td>1</td>\n",
       "    </tr>\n",
       "    <tr>\n",
       "      <th>3</th>\n",
       "      <td>Simay</td>\n",
       "      <td>11.4.1</td>\n",
       "      <td>&lt;&lt;HKDevice: 0x283600550&gt;, name:iPhone, manufac...</td>\n",
       "      <td>FlightsClimbed</td>\n",
       "      <td>count</td>\n",
       "      <td>2018-08-20 23:41:44 +0300</td>\n",
       "      <td>2018-08-20 20:15:46 +0300</td>\n",
       "      <td>2018-08-20 20:15:46 +0300</td>\n",
       "      <td>1</td>\n",
       "    </tr>\n",
       "    <tr>\n",
       "      <th>4</th>\n",
       "      <td>Simay</td>\n",
       "      <td>11.4.1</td>\n",
       "      <td>&lt;&lt;HKDevice: 0x283600550&gt;, name:iPhone, manufac...</td>\n",
       "      <td>FlightsClimbed</td>\n",
       "      <td>count</td>\n",
       "      <td>2018-08-21 13:16:16 +0300</td>\n",
       "      <td>2018-08-21 13:09:14 +0300</td>\n",
       "      <td>2018-08-21 13:09:14 +0300</td>\n",
       "      <td>1</td>\n",
       "    </tr>\n",
       "  </tbody>\n",
       "</table>\n",
       "</div>"
      ],
      "text/plain": [
       "  sourceName sourceVersion                                             device  \\\n",
       "0      Simay        11.4.1  <<HKDevice: 0x283600550>, name:iPhone, manufac...   \n",
       "1      Simay        11.4.1  <<HKDevice: 0x283600550>, name:iPhone, manufac...   \n",
       "2      Simay        11.4.1  <<HKDevice: 0x283600550>, name:iPhone, manufac...   \n",
       "3      Simay        11.4.1  <<HKDevice: 0x283600550>, name:iPhone, manufac...   \n",
       "4      Simay        11.4.1  <<HKDevice: 0x283600550>, name:iPhone, manufac...   \n",
       "\n",
       "             type   unit               creationDate  \\\n",
       "0  FlightsClimbed  count  2018-08-11 15:24:11 +0300   \n",
       "1  FlightsClimbed  count  2018-08-18 20:44:11 +0300   \n",
       "2  FlightsClimbed  count  2018-08-19 20:20:05 +0300   \n",
       "3  FlightsClimbed  count  2018-08-20 23:41:44 +0300   \n",
       "4  FlightsClimbed  count  2018-08-21 13:16:16 +0300   \n",
       "\n",
       "                   startDate                    endDate  value  \n",
       "0  2018-08-11 14:12:24 +0300  2018-08-11 14:12:24 +0300      1  \n",
       "1  2018-08-18 19:56:58 +0300  2018-08-18 19:56:58 +0300      1  \n",
       "2  2018-08-19 19:36:38 +0300  2018-08-19 19:36:38 +0300      1  \n",
       "3  2018-08-20 20:15:46 +0300  2018-08-20 20:15:46 +0300      1  \n",
       "4  2018-08-21 13:09:14 +0300  2018-08-21 13:09:14 +0300      1  "
      ]
     },
     "execution_count": 108,
     "metadata": {},
     "output_type": "execute_result"
    }
   ],
   "source": [
    "stairs_data = pd.read_csv(\"data/FlightsClimbed.csv\")\n",
    "stairs_data.head()"
   ]
  },
  {
   "cell_type": "code",
   "execution_count": 109,
   "metadata": {},
   "outputs": [
    {
     "data": {
      "text/plain": [
       "sourceName       0\n",
       "sourceVersion    0\n",
       "device           0\n",
       "type             0\n",
       "unit             0\n",
       "creationDate     0\n",
       "startDate        0\n",
       "endDate          0\n",
       "value            0\n",
       "dtype: int64"
      ]
     },
     "execution_count": 109,
     "metadata": {},
     "output_type": "execute_result"
    }
   ],
   "source": [
    "stairs_data.isnull().sum() # Checking for null values"
   ]
  },
  {
   "cell_type": "code",
   "execution_count": 110,
   "metadata": {},
   "outputs": [
    {
     "name": "stdout",
     "output_type": "stream",
     "text": [
      "<class 'pandas.core.frame.DataFrame'>\n",
      "RangeIndex: 4365 entries, 0 to 4364\n",
      "Data columns (total 9 columns):\n",
      " #   Column         Non-Null Count  Dtype \n",
      "---  ------         --------------  ----- \n",
      " 0   sourceName     4365 non-null   object\n",
      " 1   sourceVersion  4365 non-null   object\n",
      " 2   device         4365 non-null   object\n",
      " 3   type           4365 non-null   object\n",
      " 4   unit           4365 non-null   object\n",
      " 5   creationDate   4365 non-null   object\n",
      " 6   startDate      4365 non-null   object\n",
      " 7   endDate        4365 non-null   object\n",
      " 8   value          4365 non-null   int64 \n",
      "dtypes: int64(1), object(8)\n",
      "memory usage: 307.0+ KB\n"
     ]
    }
   ],
   "source": [
    "stairs_data.info() # Checking the data type of each column"
   ]
  },
  {
   "cell_type": "code",
   "execution_count": 111,
   "metadata": {},
   "outputs": [
    {
     "data": {
      "text/html": [
       "<div>\n",
       "<style scoped>\n",
       "    .dataframe tbody tr th:only-of-type {\n",
       "        vertical-align: middle;\n",
       "    }\n",
       "\n",
       "    .dataframe tbody tr th {\n",
       "        vertical-align: top;\n",
       "    }\n",
       "\n",
       "    .dataframe thead th {\n",
       "        text-align: right;\n",
       "    }\n",
       "</style>\n",
       "<table border=\"1\" class=\"dataframe\">\n",
       "  <thead>\n",
       "    <tr style=\"text-align: right;\">\n",
       "      <th></th>\n",
       "      <th>value</th>\n",
       "    </tr>\n",
       "  </thead>\n",
       "  <tbody>\n",
       "    <tr>\n",
       "      <th>count</th>\n",
       "      <td>4365.000000</td>\n",
       "    </tr>\n",
       "    <tr>\n",
       "      <th>mean</th>\n",
       "      <td>2.018557</td>\n",
       "    </tr>\n",
       "    <tr>\n",
       "      <th>std</th>\n",
       "      <td>1.415145</td>\n",
       "    </tr>\n",
       "    <tr>\n",
       "      <th>min</th>\n",
       "      <td>1.000000</td>\n",
       "    </tr>\n",
       "    <tr>\n",
       "      <th>25%</th>\n",
       "      <td>1.000000</td>\n",
       "    </tr>\n",
       "    <tr>\n",
       "      <th>50%</th>\n",
       "      <td>2.000000</td>\n",
       "    </tr>\n",
       "    <tr>\n",
       "      <th>75%</th>\n",
       "      <td>3.000000</td>\n",
       "    </tr>\n",
       "    <tr>\n",
       "      <th>max</th>\n",
       "      <td>22.000000</td>\n",
       "    </tr>\n",
       "  </tbody>\n",
       "</table>\n",
       "</div>"
      ],
      "text/plain": [
       "             value\n",
       "count  4365.000000\n",
       "mean      2.018557\n",
       "std       1.415145\n",
       "min       1.000000\n",
       "25%       1.000000\n",
       "50%       2.000000\n",
       "75%       3.000000\n",
       "max      22.000000"
      ]
     },
     "execution_count": 111,
     "metadata": {},
     "output_type": "execute_result"
    }
   ],
   "source": [
    "stairs_data.describe() # Describing the data"
   ]
  },
  {
   "cell_type": "code",
   "execution_count": 151,
   "metadata": {},
   "outputs": [
    {
     "data": {
      "text/html": [
       "<div>\n",
       "<style scoped>\n",
       "    .dataframe tbody tr th:only-of-type {\n",
       "        vertical-align: middle;\n",
       "    }\n",
       "\n",
       "    .dataframe tbody tr th {\n",
       "        vertical-align: top;\n",
       "    }\n",
       "\n",
       "    .dataframe thead th {\n",
       "        text-align: right;\n",
       "    }\n",
       "</style>\n",
       "<table border=\"1\" class=\"dataframe\">\n",
       "  <thead>\n",
       "    <tr style=\"text-align: right;\">\n",
       "      <th></th>\n",
       "      <th>startDate</th>\n",
       "      <th>value</th>\n",
       "    </tr>\n",
       "  </thead>\n",
       "  <tbody>\n",
       "    <tr>\n",
       "      <th>0</th>\n",
       "      <td>2018-06-28</td>\n",
       "      <td>3</td>\n",
       "    </tr>\n",
       "    <tr>\n",
       "      <th>1</th>\n",
       "      <td>2018-06-29</td>\n",
       "      <td>1</td>\n",
       "    </tr>\n",
       "    <tr>\n",
       "      <th>2</th>\n",
       "      <td>2018-07-02</td>\n",
       "      <td>4</td>\n",
       "    </tr>\n",
       "    <tr>\n",
       "      <th>3</th>\n",
       "      <td>2018-07-03</td>\n",
       "      <td>4</td>\n",
       "    </tr>\n",
       "    <tr>\n",
       "      <th>4</th>\n",
       "      <td>2018-07-04</td>\n",
       "      <td>10</td>\n",
       "    </tr>\n",
       "  </tbody>\n",
       "</table>\n",
       "</div>"
      ],
      "text/plain": [
       "    startDate  value\n",
       "0  2018-06-28      3\n",
       "1  2018-06-29      1\n",
       "2  2018-07-02      4\n",
       "3  2018-07-03      4\n",
       "4  2018-07-04     10"
      ]
     },
     "execution_count": 151,
     "metadata": {},
     "output_type": "execute_result"
    }
   ],
   "source": [
    "stairs_data[\"startDate\"] = pd.to_datetime(stairs_data[\"startDate\"]) # Converting the StartDate column to datetime format\n",
    "stairs_data[\"startDate\"] = stairs_data[\"startDate\"].dt.date # Extracting the date from the datetime format\n",
    "stairs_data = stairs_data.groupby(\"startDate\").sum() # Grouping the data by date and summing the flights\n",
    "stairs_data.reset_index(inplace=True)\n",
    "stairs_data.head()"
   ]
  },
  {
   "cell_type": "markdown",
   "metadata": {},
   "source": [
    "### Burned Energy"
   ]
  },
  {
   "cell_type": "markdown",
   "metadata": {},
   "source": [
    "#### Active Energy"
   ]
  },
  {
   "cell_type": "code",
   "execution_count": 112,
   "metadata": {},
   "outputs": [
    {
     "data": {
      "text/html": [
       "<div>\n",
       "<style scoped>\n",
       "    .dataframe tbody tr th:only-of-type {\n",
       "        vertical-align: middle;\n",
       "    }\n",
       "\n",
       "    .dataframe tbody tr th {\n",
       "        vertical-align: top;\n",
       "    }\n",
       "\n",
       "    .dataframe thead th {\n",
       "        text-align: right;\n",
       "    }\n",
       "</style>\n",
       "<table border=\"1\" class=\"dataframe\">\n",
       "  <thead>\n",
       "    <tr style=\"text-align: right;\">\n",
       "      <th></th>\n",
       "      <th>sourceName</th>\n",
       "      <th>sourceVersion</th>\n",
       "      <th>device</th>\n",
       "      <th>type</th>\n",
       "      <th>unit</th>\n",
       "      <th>creationDate</th>\n",
       "      <th>startDate</th>\n",
       "      <th>endDate</th>\n",
       "      <th>value</th>\n",
       "    </tr>\n",
       "  </thead>\n",
       "  <tbody>\n",
       "    <tr>\n",
       "      <th>0</th>\n",
       "      <td>YAZIO</td>\n",
       "      <td>1023</td>\n",
       "      <td>NaN</td>\n",
       "      <td>ActiveEnergyBurned</td>\n",
       "      <td>kcal</td>\n",
       "      <td>2021-06-19 23:29:39 +0300</td>\n",
       "      <td>2021-06-19 08:49:28 +0300</td>\n",
       "      <td>2021-06-19 08:50:29 +0300</td>\n",
       "      <td>1.22798</td>\n",
       "    </tr>\n",
       "    <tr>\n",
       "      <th>1</th>\n",
       "      <td>YAZIO</td>\n",
       "      <td>1023</td>\n",
       "      <td>NaN</td>\n",
       "      <td>ActiveEnergyBurned</td>\n",
       "      <td>kcal</td>\n",
       "      <td>2021-06-19 23:29:39 +0300</td>\n",
       "      <td>2021-06-19 09:23:52 +0300</td>\n",
       "      <td>2021-06-19 09:33:51 +0300</td>\n",
       "      <td>1.98366</td>\n",
       "    </tr>\n",
       "    <tr>\n",
       "      <th>2</th>\n",
       "      <td>YAZIO</td>\n",
       "      <td>1023</td>\n",
       "      <td>NaN</td>\n",
       "      <td>ActiveEnergyBurned</td>\n",
       "      <td>kcal</td>\n",
       "      <td>2021-06-19 23:29:39 +0300</td>\n",
       "      <td>2021-06-19 09:34:02 +0300</td>\n",
       "      <td>2021-06-19 09:38:19 +0300</td>\n",
       "      <td>4.25069</td>\n",
       "    </tr>\n",
       "    <tr>\n",
       "      <th>3</th>\n",
       "      <td>YAZIO</td>\n",
       "      <td>1023</td>\n",
       "      <td>NaN</td>\n",
       "      <td>ActiveEnergyBurned</td>\n",
       "      <td>kcal</td>\n",
       "      <td>2021-06-19 23:29:39 +0300</td>\n",
       "      <td>2021-06-19 10:38:35 +0300</td>\n",
       "      <td>2021-06-19 10:38:37 +0300</td>\n",
       "      <td>0.28338</td>\n",
       "    </tr>\n",
       "    <tr>\n",
       "      <th>4</th>\n",
       "      <td>YAZIO</td>\n",
       "      <td>1023</td>\n",
       "      <td>NaN</td>\n",
       "      <td>ActiveEnergyBurned</td>\n",
       "      <td>kcal</td>\n",
       "      <td>2021-06-19 23:29:39 +0300</td>\n",
       "      <td>2021-06-19 10:50:29 +0300</td>\n",
       "      <td>2021-06-19 11:00:20 +0300</td>\n",
       "      <td>2.99123</td>\n",
       "    </tr>\n",
       "  </tbody>\n",
       "</table>\n",
       "</div>"
      ],
      "text/plain": [
       "  sourceName sourceVersion device                type  unit  \\\n",
       "0      YAZIO          1023    NaN  ActiveEnergyBurned  kcal   \n",
       "1      YAZIO          1023    NaN  ActiveEnergyBurned  kcal   \n",
       "2      YAZIO          1023    NaN  ActiveEnergyBurned  kcal   \n",
       "3      YAZIO          1023    NaN  ActiveEnergyBurned  kcal   \n",
       "4      YAZIO          1023    NaN  ActiveEnergyBurned  kcal   \n",
       "\n",
       "                creationDate                  startDate  \\\n",
       "0  2021-06-19 23:29:39 +0300  2021-06-19 08:49:28 +0300   \n",
       "1  2021-06-19 23:29:39 +0300  2021-06-19 09:23:52 +0300   \n",
       "2  2021-06-19 23:29:39 +0300  2021-06-19 09:34:02 +0300   \n",
       "3  2021-06-19 23:29:39 +0300  2021-06-19 10:38:35 +0300   \n",
       "4  2021-06-19 23:29:39 +0300  2021-06-19 10:50:29 +0300   \n",
       "\n",
       "                     endDate    value  \n",
       "0  2021-06-19 08:50:29 +0300  1.22798  \n",
       "1  2021-06-19 09:33:51 +0300  1.98366  \n",
       "2  2021-06-19 09:38:19 +0300  4.25069  \n",
       "3  2021-06-19 10:38:37 +0300  0.28338  \n",
       "4  2021-06-19 11:00:20 +0300  2.99123  "
      ]
     },
     "execution_count": 112,
     "metadata": {},
     "output_type": "execute_result"
    }
   ],
   "source": [
    "burned_energy_active = pd.read_csv(\"data/ActiveEnergyBurned.csv\")\n",
    "burned_energy_active.head()"
   ]
  },
  {
   "cell_type": "code",
   "execution_count": 113,
   "metadata": {},
   "outputs": [
    {
     "data": {
      "text/plain": [
       "sourceName         0\n",
       "sourceVersion      0\n",
       "device           484\n",
       "type               0\n",
       "unit               0\n",
       "creationDate       0\n",
       "startDate          0\n",
       "endDate            0\n",
       "value              0\n",
       "dtype: int64"
      ]
     },
     "execution_count": 113,
     "metadata": {},
     "output_type": "execute_result"
    }
   ],
   "source": [
    "burned_energy_active.isnull().sum() # Checking for null values"
   ]
  },
  {
   "cell_type": "code",
   "execution_count": 114,
   "metadata": {},
   "outputs": [
    {
     "name": "stdout",
     "output_type": "stream",
     "text": [
      "<class 'pandas.core.frame.DataFrame'>\n",
      "RangeIndex: 72212 entries, 0 to 72211\n",
      "Data columns (total 9 columns):\n",
      " #   Column         Non-Null Count  Dtype  \n",
      "---  ------         --------------  -----  \n",
      " 0   sourceName     72212 non-null  object \n",
      " 1   sourceVersion  72212 non-null  object \n",
      " 2   device         71728 non-null  object \n",
      " 3   type           72212 non-null  object \n",
      " 4   unit           72212 non-null  object \n",
      " 5   creationDate   72212 non-null  object \n",
      " 6   startDate      72212 non-null  object \n",
      " 7   endDate        72212 non-null  object \n",
      " 8   value          72212 non-null  float64\n",
      "dtypes: float64(1), object(8)\n",
      "memory usage: 5.0+ MB\n"
     ]
    }
   ],
   "source": [
    "burned_energy_active.info() # Checking the data type of each column"
   ]
  },
  {
   "cell_type": "code",
   "execution_count": 115,
   "metadata": {},
   "outputs": [
    {
     "data": {
      "text/html": [
       "<div>\n",
       "<style scoped>\n",
       "    .dataframe tbody tr th:only-of-type {\n",
       "        vertical-align: middle;\n",
       "    }\n",
       "\n",
       "    .dataframe tbody tr th {\n",
       "        vertical-align: top;\n",
       "    }\n",
       "\n",
       "    .dataframe thead th {\n",
       "        text-align: right;\n",
       "    }\n",
       "</style>\n",
       "<table border=\"1\" class=\"dataframe\">\n",
       "  <thead>\n",
       "    <tr style=\"text-align: right;\">\n",
       "      <th></th>\n",
       "      <th>value</th>\n",
       "    </tr>\n",
       "  </thead>\n",
       "  <tbody>\n",
       "    <tr>\n",
       "      <th>count</th>\n",
       "      <td>72212.000000</td>\n",
       "    </tr>\n",
       "    <tr>\n",
       "      <th>mean</th>\n",
       "      <td>0.483275</td>\n",
       "    </tr>\n",
       "    <tr>\n",
       "      <th>std</th>\n",
       "      <td>1.756265</td>\n",
       "    </tr>\n",
       "    <tr>\n",
       "      <th>min</th>\n",
       "      <td>0.001000</td>\n",
       "    </tr>\n",
       "    <tr>\n",
       "      <th>25%</th>\n",
       "      <td>0.135000</td>\n",
       "    </tr>\n",
       "    <tr>\n",
       "      <th>50%</th>\n",
       "      <td>0.252000</td>\n",
       "    </tr>\n",
       "    <tr>\n",
       "      <th>75%</th>\n",
       "      <td>0.451250</td>\n",
       "    </tr>\n",
       "    <tr>\n",
       "      <th>max</th>\n",
       "      <td>105.456000</td>\n",
       "    </tr>\n",
       "  </tbody>\n",
       "</table>\n",
       "</div>"
      ],
      "text/plain": [
       "              value\n",
       "count  72212.000000\n",
       "mean       0.483275\n",
       "std        1.756265\n",
       "min        0.001000\n",
       "25%        0.135000\n",
       "50%        0.252000\n",
       "75%        0.451250\n",
       "max      105.456000"
      ]
     },
     "execution_count": 115,
     "metadata": {},
     "output_type": "execute_result"
    }
   ],
   "source": [
    "burned_energy_active.describe() # Describing the data"
   ]
  },
  {
   "cell_type": "code",
   "execution_count": 116,
   "metadata": {},
   "outputs": [
    {
     "data": {
      "text/html": [
       "<div>\n",
       "<style scoped>\n",
       "    .dataframe tbody tr th:only-of-type {\n",
       "        vertical-align: middle;\n",
       "    }\n",
       "\n",
       "    .dataframe tbody tr th {\n",
       "        vertical-align: top;\n",
       "    }\n",
       "\n",
       "    .dataframe thead th {\n",
       "        text-align: right;\n",
       "    }\n",
       "</style>\n",
       "<table border=\"1\" class=\"dataframe\">\n",
       "  <thead>\n",
       "    <tr style=\"text-align: right;\">\n",
       "      <th></th>\n",
       "      <th>startDate</th>\n",
       "      <th>value</th>\n",
       "    </tr>\n",
       "  </thead>\n",
       "  <tbody>\n",
       "    <tr>\n",
       "      <th>0</th>\n",
       "      <td>2021-06-18</td>\n",
       "      <td>215.148064</td>\n",
       "    </tr>\n",
       "    <tr>\n",
       "      <th>1</th>\n",
       "      <td>2021-06-19</td>\n",
       "      <td>152.363687</td>\n",
       "    </tr>\n",
       "    <tr>\n",
       "      <th>2</th>\n",
       "      <td>2021-06-24</td>\n",
       "      <td>100.631153</td>\n",
       "    </tr>\n",
       "    <tr>\n",
       "      <th>3</th>\n",
       "      <td>2021-06-25</td>\n",
       "      <td>4.061038</td>\n",
       "    </tr>\n",
       "    <tr>\n",
       "      <th>4</th>\n",
       "      <td>2021-06-26</td>\n",
       "      <td>43.264429</td>\n",
       "    </tr>\n",
       "  </tbody>\n",
       "</table>\n",
       "</div>"
      ],
      "text/plain": [
       "    startDate       value\n",
       "0  2021-06-18  215.148064\n",
       "1  2021-06-19  152.363687\n",
       "2  2021-06-24  100.631153\n",
       "3  2021-06-25    4.061038\n",
       "4  2021-06-26   43.264429"
      ]
     },
     "execution_count": 116,
     "metadata": {},
     "output_type": "execute_result"
    }
   ],
   "source": [
    "burned_energy_active[\"startDate\"] = pd.to_datetime(burned_energy_active[\"startDate\"]) # Converting the StartDate column to datetime format\n",
    "burned_energy_active[\"startDate\"] = burned_energy_active[\"startDate\"].dt.date # Extracting the date from the datetime format\n",
    "burned_energy_active = burned_energy_active.groupby(\"startDate\").sum() # Grouping the data by date and summing the distance\n",
    "burned_energy_active.reset_index(inplace=True)\n",
    "burned_energy_active.head()"
   ]
  },
  {
   "cell_type": "markdown",
   "metadata": {},
   "source": [
    "#### Basal Energy"
   ]
  },
  {
   "cell_type": "code",
   "execution_count": 117,
   "metadata": {},
   "outputs": [
    {
     "data": {
      "text/html": [
       "<div>\n",
       "<style scoped>\n",
       "    .dataframe tbody tr th:only-of-type {\n",
       "        vertical-align: middle;\n",
       "    }\n",
       "\n",
       "    .dataframe tbody tr th {\n",
       "        vertical-align: top;\n",
       "    }\n",
       "\n",
       "    .dataframe thead th {\n",
       "        text-align: right;\n",
       "    }\n",
       "</style>\n",
       "<table border=\"1\" class=\"dataframe\">\n",
       "  <thead>\n",
       "    <tr style=\"text-align: right;\">\n",
       "      <th></th>\n",
       "      <th>sourceName</th>\n",
       "      <th>sourceVersion</th>\n",
       "      <th>device</th>\n",
       "      <th>type</th>\n",
       "      <th>unit</th>\n",
       "      <th>creationDate</th>\n",
       "      <th>startDate</th>\n",
       "      <th>endDate</th>\n",
       "      <th>value</th>\n",
       "    </tr>\n",
       "  </thead>\n",
       "  <tbody>\n",
       "    <tr>\n",
       "      <th>0</th>\n",
       "      <td>Simay</td>\n",
       "      <td>16.1.2</td>\n",
       "      <td>&lt;&lt;HKDevice: 0x283620b40&gt;, name:iPhone, manufac...</td>\n",
       "      <td>BasalEnergyBurned</td>\n",
       "      <td>kcal</td>\n",
       "      <td>2022-12-05 13:20:32 +0300</td>\n",
       "      <td>2022-12-04 12:25:14 +0300</td>\n",
       "      <td>2022-12-04 12:40:00 +0300</td>\n",
       "      <td>13.682</td>\n",
       "    </tr>\n",
       "    <tr>\n",
       "      <th>1</th>\n",
       "      <td>Simay</td>\n",
       "      <td>16.1.2</td>\n",
       "      <td>&lt;&lt;HKDevice: 0x283620b40&gt;, name:iPhone, manufac...</td>\n",
       "      <td>BasalEnergyBurned</td>\n",
       "      <td>kcal</td>\n",
       "      <td>2022-12-05 13:20:32 +0300</td>\n",
       "      <td>2022-12-04 12:40:00 +0300</td>\n",
       "      <td>2022-12-04 12:55:58 +0300</td>\n",
       "      <td>14.800</td>\n",
       "    </tr>\n",
       "    <tr>\n",
       "      <th>2</th>\n",
       "      <td>Simay</td>\n",
       "      <td>16.1.2</td>\n",
       "      <td>&lt;&lt;HKDevice: 0x283620b40&gt;, name:iPhone, manufac...</td>\n",
       "      <td>BasalEnergyBurned</td>\n",
       "      <td>kcal</td>\n",
       "      <td>2022-12-05 13:20:32 +0300</td>\n",
       "      <td>2022-12-04 12:55:58 +0300</td>\n",
       "      <td>2022-12-04 13:12:05 +0300</td>\n",
       "      <td>14.952</td>\n",
       "    </tr>\n",
       "    <tr>\n",
       "      <th>3</th>\n",
       "      <td>Simay</td>\n",
       "      <td>16.1.2</td>\n",
       "      <td>&lt;&lt;HKDevice: 0x283620b40&gt;, name:iPhone, manufac...</td>\n",
       "      <td>BasalEnergyBurned</td>\n",
       "      <td>kcal</td>\n",
       "      <td>2022-12-05 13:20:32 +0300</td>\n",
       "      <td>2022-12-04 13:12:05 +0300</td>\n",
       "      <td>2022-12-04 13:26:51 +0300</td>\n",
       "      <td>13.680</td>\n",
       "    </tr>\n",
       "    <tr>\n",
       "      <th>4</th>\n",
       "      <td>Simay</td>\n",
       "      <td>16.1.2</td>\n",
       "      <td>&lt;&lt;HKDevice: 0x283620b40&gt;, name:iPhone, manufac...</td>\n",
       "      <td>BasalEnergyBurned</td>\n",
       "      <td>kcal</td>\n",
       "      <td>2022-12-05 13:20:32 +0300</td>\n",
       "      <td>2022-12-04 13:26:51 +0300</td>\n",
       "      <td>2022-12-04 13:41:36 +0300</td>\n",
       "      <td>13.681</td>\n",
       "    </tr>\n",
       "  </tbody>\n",
       "</table>\n",
       "</div>"
      ],
      "text/plain": [
       "  sourceName sourceVersion                                             device  \\\n",
       "0      Simay        16.1.2  <<HKDevice: 0x283620b40>, name:iPhone, manufac...   \n",
       "1      Simay        16.1.2  <<HKDevice: 0x283620b40>, name:iPhone, manufac...   \n",
       "2      Simay        16.1.2  <<HKDevice: 0x283620b40>, name:iPhone, manufac...   \n",
       "3      Simay        16.1.2  <<HKDevice: 0x283620b40>, name:iPhone, manufac...   \n",
       "4      Simay        16.1.2  <<HKDevice: 0x283620b40>, name:iPhone, manufac...   \n",
       "\n",
       "                type  unit               creationDate  \\\n",
       "0  BasalEnergyBurned  kcal  2022-12-05 13:20:32 +0300   \n",
       "1  BasalEnergyBurned  kcal  2022-12-05 13:20:32 +0300   \n",
       "2  BasalEnergyBurned  kcal  2022-12-05 13:20:32 +0300   \n",
       "3  BasalEnergyBurned  kcal  2022-12-05 13:20:32 +0300   \n",
       "4  BasalEnergyBurned  kcal  2022-12-05 13:20:32 +0300   \n",
       "\n",
       "                   startDate                    endDate   value  \n",
       "0  2022-12-04 12:25:14 +0300  2022-12-04 12:40:00 +0300  13.682  \n",
       "1  2022-12-04 12:40:00 +0300  2022-12-04 12:55:58 +0300  14.800  \n",
       "2  2022-12-04 12:55:58 +0300  2022-12-04 13:12:05 +0300  14.952  \n",
       "3  2022-12-04 13:12:05 +0300  2022-12-04 13:26:51 +0300  13.680  \n",
       "4  2022-12-04 13:26:51 +0300  2022-12-04 13:41:36 +0300  13.681  "
      ]
     },
     "execution_count": 117,
     "metadata": {},
     "output_type": "execute_result"
    }
   ],
   "source": [
    "burned_energy_basal = pd.read_csv(\"data/BasalEnergyBurned.csv\")\n",
    "burned_energy_basal.head()"
   ]
  },
  {
   "cell_type": "code",
   "execution_count": 118,
   "metadata": {},
   "outputs": [
    {
     "data": {
      "text/plain": [
       "sourceName       0\n",
       "sourceVersion    0\n",
       "device           0\n",
       "type             0\n",
       "unit             0\n",
       "creationDate     0\n",
       "startDate        0\n",
       "endDate          0\n",
       "value            0\n",
       "dtype: int64"
      ]
     },
     "execution_count": 118,
     "metadata": {},
     "output_type": "execute_result"
    }
   ],
   "source": [
    "burned_energy_basal.isnull().sum() # Checking for null values"
   ]
  },
  {
   "cell_type": "code",
   "execution_count": 119,
   "metadata": {},
   "outputs": [
    {
     "name": "stdout",
     "output_type": "stream",
     "text": [
      "<class 'pandas.core.frame.DataFrame'>\n",
      "RangeIndex: 25072 entries, 0 to 25071\n",
      "Data columns (total 9 columns):\n",
      " #   Column         Non-Null Count  Dtype  \n",
      "---  ------         --------------  -----  \n",
      " 0   sourceName     25072 non-null  object \n",
      " 1   sourceVersion  25072 non-null  object \n",
      " 2   device         25072 non-null  object \n",
      " 3   type           25072 non-null  object \n",
      " 4   unit           25072 non-null  object \n",
      " 5   creationDate   25072 non-null  object \n",
      " 6   startDate      25072 non-null  object \n",
      " 7   endDate        25072 non-null  object \n",
      " 8   value          25072 non-null  float64\n",
      "dtypes: float64(1), object(8)\n",
      "memory usage: 1.7+ MB\n"
     ]
    }
   ],
   "source": [
    "burned_energy_basal.info() # Checking the data type of each column"
   ]
  },
  {
   "cell_type": "code",
   "execution_count": 120,
   "metadata": {},
   "outputs": [
    {
     "data": {
      "text/html": [
       "<div>\n",
       "<style scoped>\n",
       "    .dataframe tbody tr th:only-of-type {\n",
       "        vertical-align: middle;\n",
       "    }\n",
       "\n",
       "    .dataframe tbody tr th {\n",
       "        vertical-align: top;\n",
       "    }\n",
       "\n",
       "    .dataframe thead th {\n",
       "        text-align: right;\n",
       "    }\n",
       "</style>\n",
       "<table border=\"1\" class=\"dataframe\">\n",
       "  <thead>\n",
       "    <tr style=\"text-align: right;\">\n",
       "      <th></th>\n",
       "      <th>value</th>\n",
       "    </tr>\n",
       "  </thead>\n",
       "  <tbody>\n",
       "    <tr>\n",
       "      <th>count</th>\n",
       "      <td>25072.000000</td>\n",
       "    </tr>\n",
       "    <tr>\n",
       "      <th>mean</th>\n",
       "      <td>10.277103</td>\n",
       "    </tr>\n",
       "    <tr>\n",
       "      <th>std</th>\n",
       "      <td>16.153812</td>\n",
       "    </tr>\n",
       "    <tr>\n",
       "      <th>min</th>\n",
       "      <td>0.047000</td>\n",
       "    </tr>\n",
       "    <tr>\n",
       "      <th>25%</th>\n",
       "      <td>0.470000</td>\n",
       "    </tr>\n",
       "    <tr>\n",
       "      <th>50%</th>\n",
       "      <td>0.564000</td>\n",
       "    </tr>\n",
       "    <tr>\n",
       "      <th>75%</th>\n",
       "      <td>14.260000</td>\n",
       "    </tr>\n",
       "    <tr>\n",
       "      <th>max</th>\n",
       "      <td>145.030000</td>\n",
       "    </tr>\n",
       "  </tbody>\n",
       "</table>\n",
       "</div>"
      ],
      "text/plain": [
       "              value\n",
       "count  25072.000000\n",
       "mean      10.277103\n",
       "std       16.153812\n",
       "min        0.047000\n",
       "25%        0.470000\n",
       "50%        0.564000\n",
       "75%       14.260000\n",
       "max      145.030000"
      ]
     },
     "execution_count": 120,
     "metadata": {},
     "output_type": "execute_result"
    }
   ],
   "source": [
    "burned_energy_basal.describe() # Describing the data"
   ]
  },
  {
   "cell_type": "code",
   "execution_count": 121,
   "metadata": {},
   "outputs": [
    {
     "data": {
      "text/html": [
       "<div>\n",
       "<style scoped>\n",
       "    .dataframe tbody tr th:only-of-type {\n",
       "        vertical-align: middle;\n",
       "    }\n",
       "\n",
       "    .dataframe tbody tr th {\n",
       "        vertical-align: top;\n",
       "    }\n",
       "\n",
       "    .dataframe thead th {\n",
       "        text-align: right;\n",
       "    }\n",
       "</style>\n",
       "<table border=\"1\" class=\"dataframe\">\n",
       "  <thead>\n",
       "    <tr style=\"text-align: right;\">\n",
       "      <th></th>\n",
       "      <th>startDate</th>\n",
       "      <th>value</th>\n",
       "    </tr>\n",
       "  </thead>\n",
       "  <tbody>\n",
       "    <tr>\n",
       "      <th>0</th>\n",
       "      <td>2022-12-04</td>\n",
       "      <td>654.282</td>\n",
       "    </tr>\n",
       "    <tr>\n",
       "      <th>1</th>\n",
       "      <td>2022-12-05</td>\n",
       "      <td>1348.757</td>\n",
       "    </tr>\n",
       "    <tr>\n",
       "      <th>2</th>\n",
       "      <td>2022-12-06</td>\n",
       "      <td>1350.354</td>\n",
       "    </tr>\n",
       "    <tr>\n",
       "      <th>3</th>\n",
       "      <td>2022-12-07</td>\n",
       "      <td>1294.022</td>\n",
       "    </tr>\n",
       "    <tr>\n",
       "      <th>4</th>\n",
       "      <td>2022-12-08</td>\n",
       "      <td>1343.321</td>\n",
       "    </tr>\n",
       "  </tbody>\n",
       "</table>\n",
       "</div>"
      ],
      "text/plain": [
       "    startDate     value\n",
       "0  2022-12-04   654.282\n",
       "1  2022-12-05  1348.757\n",
       "2  2022-12-06  1350.354\n",
       "3  2022-12-07  1294.022\n",
       "4  2022-12-08  1343.321"
      ]
     },
     "execution_count": 121,
     "metadata": {},
     "output_type": "execute_result"
    }
   ],
   "source": [
    "burned_energy_basal[\"startDate\"] = pd.to_datetime(burned_energy_basal[\"startDate\"]) # Converting the StartDate column to datetime format\n",
    "burned_energy_basal[\"startDate\"] = burned_energy_basal[\"startDate\"].dt.date # Extracting the date from the datetime format\n",
    "burned_energy_basal = burned_energy_basal.groupby(\"startDate\").sum() # Grouping the data by date and summing the distance\n",
    "burned_energy_basal.reset_index(inplace=True)\n",
    "burned_energy_basal.head()"
   ]
  },
  {
   "cell_type": "markdown",
   "metadata": {},
   "source": [
    "## Sleeping Data"
   ]
  },
  {
   "cell_type": "code",
   "execution_count": 122,
   "metadata": {},
   "outputs": [
    {
     "data": {
      "text/html": [
       "<div>\n",
       "<style scoped>\n",
       "    .dataframe tbody tr th:only-of-type {\n",
       "        vertical-align: middle;\n",
       "    }\n",
       "\n",
       "    .dataframe tbody tr th {\n",
       "        vertical-align: top;\n",
       "    }\n",
       "\n",
       "    .dataframe thead th {\n",
       "        text-align: right;\n",
       "    }\n",
       "</style>\n",
       "<table border=\"1\" class=\"dataframe\">\n",
       "  <thead>\n",
       "    <tr style=\"text-align: right;\">\n",
       "      <th></th>\n",
       "      <th>sourceName</th>\n",
       "      <th>sourceVersion</th>\n",
       "      <th>device</th>\n",
       "      <th>type</th>\n",
       "      <th>unit</th>\n",
       "      <th>creationDate</th>\n",
       "      <th>startDate</th>\n",
       "      <th>endDate</th>\n",
       "      <th>value</th>\n",
       "    </tr>\n",
       "  </thead>\n",
       "  <tbody>\n",
       "    <tr>\n",
       "      <th>0</th>\n",
       "      <td>Simay</td>\n",
       "      <td>15.0.2</td>\n",
       "      <td>NaN</td>\n",
       "      <td>SleepAnalysis</td>\n",
       "      <td>NaN</td>\n",
       "      <td>2021-11-27 08:05:05 +0300</td>\n",
       "      <td>2021-11-27 05:09:52 +0300</td>\n",
       "      <td>2021-11-27 08:00:04 +0300</td>\n",
       "      <td>HKCategoryValueSleepAnalysisInBed</td>\n",
       "    </tr>\n",
       "    <tr>\n",
       "      <th>1</th>\n",
       "      <td>Simay</td>\n",
       "      <td>15.0.2</td>\n",
       "      <td>NaN</td>\n",
       "      <td>SleepAnalysis</td>\n",
       "      <td>NaN</td>\n",
       "      <td>2021-11-27 08:05:05 +0300</td>\n",
       "      <td>2021-11-27 08:04:29 +0300</td>\n",
       "      <td>2021-11-27 08:05:05 +0300</td>\n",
       "      <td>HKCategoryValueSleepAnalysisInBed</td>\n",
       "    </tr>\n",
       "    <tr>\n",
       "      <th>2</th>\n",
       "      <td>Simay</td>\n",
       "      <td>15.0.2</td>\n",
       "      <td>NaN</td>\n",
       "      <td>SleepAnalysis</td>\n",
       "      <td>NaN</td>\n",
       "      <td>2021-11-28 09:12:30 +0300</td>\n",
       "      <td>2021-11-28 02:01:08 +0300</td>\n",
       "      <td>2021-11-28 09:12:30 +0300</td>\n",
       "      <td>HKCategoryValueSleepAnalysisInBed</td>\n",
       "    </tr>\n",
       "    <tr>\n",
       "      <th>3</th>\n",
       "      <td>Simay</td>\n",
       "      <td>15.0.2</td>\n",
       "      <td>NaN</td>\n",
       "      <td>SleepAnalysis</td>\n",
       "      <td>NaN</td>\n",
       "      <td>2021-11-29 08:46:59 +0300</td>\n",
       "      <td>2021-11-29 03:37:22 +0300</td>\n",
       "      <td>2021-11-29 08:46:59 +0300</td>\n",
       "      <td>HKCategoryValueSleepAnalysisInBed</td>\n",
       "    </tr>\n",
       "    <tr>\n",
       "      <th>4</th>\n",
       "      <td>Simay</td>\n",
       "      <td>15.0.2</td>\n",
       "      <td>NaN</td>\n",
       "      <td>SleepAnalysis</td>\n",
       "      <td>NaN</td>\n",
       "      <td>2021-11-30 11:00:06 +0300</td>\n",
       "      <td>2021-11-30 03:08:07 +0300</td>\n",
       "      <td>2021-11-30 10:34:43 +0300</td>\n",
       "      <td>HKCategoryValueSleepAnalysisInBed</td>\n",
       "    </tr>\n",
       "  </tbody>\n",
       "</table>\n",
       "</div>"
      ],
      "text/plain": [
       "  sourceName sourceVersion  device           type  unit  \\\n",
       "0      Simay        15.0.2     NaN  SleepAnalysis   NaN   \n",
       "1      Simay        15.0.2     NaN  SleepAnalysis   NaN   \n",
       "2      Simay        15.0.2     NaN  SleepAnalysis   NaN   \n",
       "3      Simay        15.0.2     NaN  SleepAnalysis   NaN   \n",
       "4      Simay        15.0.2     NaN  SleepAnalysis   NaN   \n",
       "\n",
       "                creationDate                  startDate  \\\n",
       "0  2021-11-27 08:05:05 +0300  2021-11-27 05:09:52 +0300   \n",
       "1  2021-11-27 08:05:05 +0300  2021-11-27 08:04:29 +0300   \n",
       "2  2021-11-28 09:12:30 +0300  2021-11-28 02:01:08 +0300   \n",
       "3  2021-11-29 08:46:59 +0300  2021-11-29 03:37:22 +0300   \n",
       "4  2021-11-30 11:00:06 +0300  2021-11-30 03:08:07 +0300   \n",
       "\n",
       "                     endDate                              value  \n",
       "0  2021-11-27 08:00:04 +0300  HKCategoryValueSleepAnalysisInBed  \n",
       "1  2021-11-27 08:05:05 +0300  HKCategoryValueSleepAnalysisInBed  \n",
       "2  2021-11-28 09:12:30 +0300  HKCategoryValueSleepAnalysisInBed  \n",
       "3  2021-11-29 08:46:59 +0300  HKCategoryValueSleepAnalysisInBed  \n",
       "4  2021-11-30 10:34:43 +0300  HKCategoryValueSleepAnalysisInBed  "
      ]
     },
     "execution_count": 122,
     "metadata": {},
     "output_type": "execute_result"
    }
   ],
   "source": [
    "## Sleep data\n",
    "sleep_data = pd.read_csv(\"data/SleepAnalysis.csv\")\n",
    "sleep_data.head()"
   ]
  },
  {
   "cell_type": "code",
   "execution_count": 123,
   "metadata": {},
   "outputs": [
    {
     "data": {
      "text/plain": [
       "sourceName          0\n",
       "sourceVersion       0\n",
       "device           5901\n",
       "type                0\n",
       "unit             5901\n",
       "creationDate        0\n",
       "startDate           0\n",
       "endDate             0\n",
       "value               0\n",
       "dtype: int64"
      ]
     },
     "execution_count": 123,
     "metadata": {},
     "output_type": "execute_result"
    }
   ],
   "source": [
    "sleep_data.isnull().sum() # Checking for null values"
   ]
  },
  {
   "cell_type": "code",
   "execution_count": 124,
   "metadata": {},
   "outputs": [
    {
     "name": "stdout",
     "output_type": "stream",
     "text": [
      "<class 'pandas.core.frame.DataFrame'>\n",
      "RangeIndex: 5901 entries, 0 to 5900\n",
      "Data columns (total 9 columns):\n",
      " #   Column         Non-Null Count  Dtype  \n",
      "---  ------         --------------  -----  \n",
      " 0   sourceName     5901 non-null   object \n",
      " 1   sourceVersion  5901 non-null   object \n",
      " 2   device         0 non-null      float64\n",
      " 3   type           5901 non-null   object \n",
      " 4   unit           0 non-null      float64\n",
      " 5   creationDate   5901 non-null   object \n",
      " 6   startDate      5901 non-null   object \n",
      " 7   endDate        5901 non-null   object \n",
      " 8   value          5901 non-null   object \n",
      "dtypes: float64(2), object(7)\n",
      "memory usage: 415.0+ KB\n"
     ]
    }
   ],
   "source": [
    "sleep_data.info() # Checking the data type of each column "
   ]
  },
  {
   "cell_type": "code",
   "execution_count": 125,
   "metadata": {},
   "outputs": [
    {
     "data": {
      "text/plain": [
       "(5901, 9)"
      ]
     },
     "execution_count": 125,
     "metadata": {},
     "output_type": "execute_result"
    }
   ],
   "source": [
    "sleep_data.shape # Checking the shape of the data"
   ]
  },
  {
   "cell_type": "markdown",
   "metadata": {},
   "source": [
    "## Headphone Decibel Data"
   ]
  },
  {
   "cell_type": "markdown",
   "metadata": {},
   "source": [
    "Experts recommend keeping sound levels at somewhere between 60 and 85 decibels to minimize the damage your ears are exposed to. I will visualize the data and try to find conclusion about correlation between physical activities etc."
   ]
  },
  {
   "cell_type": "code",
   "execution_count": 126,
   "metadata": {},
   "outputs": [
    {
     "data": {
      "text/html": [
       "<div>\n",
       "<style scoped>\n",
       "    .dataframe tbody tr th:only-of-type {\n",
       "        vertical-align: middle;\n",
       "    }\n",
       "\n",
       "    .dataframe tbody tr th {\n",
       "        vertical-align: top;\n",
       "    }\n",
       "\n",
       "    .dataframe thead th {\n",
       "        text-align: right;\n",
       "    }\n",
       "</style>\n",
       "<table border=\"1\" class=\"dataframe\">\n",
       "  <thead>\n",
       "    <tr style=\"text-align: right;\">\n",
       "      <th></th>\n",
       "      <th>sourceName</th>\n",
       "      <th>sourceVersion</th>\n",
       "      <th>device</th>\n",
       "      <th>type</th>\n",
       "      <th>unit</th>\n",
       "      <th>creationDate</th>\n",
       "      <th>startDate</th>\n",
       "      <th>endDate</th>\n",
       "      <th>value</th>\n",
       "    </tr>\n",
       "  </thead>\n",
       "  <tbody>\n",
       "    <tr>\n",
       "      <th>0</th>\n",
       "      <td>Simay</td>\n",
       "      <td>13.3.1</td>\n",
       "      <td>&lt;&lt;HKDevice: 0x283621540&gt;, name:AirPods, manufa...</td>\n",
       "      <td>HeadphoneAudioExposure</td>\n",
       "      <td>dBASPL</td>\n",
       "      <td>2020-03-19 20:28:35 +0300</td>\n",
       "      <td>2020-03-19 20:17:34 +0300</td>\n",
       "      <td>2020-03-19 20:38:35 +0300</td>\n",
       "      <td>73.2572</td>\n",
       "    </tr>\n",
       "    <tr>\n",
       "      <th>1</th>\n",
       "      <td>Simay</td>\n",
       "      <td>13.3.1</td>\n",
       "      <td>&lt;&lt;HKDevice: 0x283621540&gt;, name:AirPods, manufa...</td>\n",
       "      <td>HeadphoneAudioExposure</td>\n",
       "      <td>dBASPL</td>\n",
       "      <td>2020-03-22 22:05:39 +0300</td>\n",
       "      <td>2020-03-22 21:57:40 +0300</td>\n",
       "      <td>2020-03-22 21:57:49 +0300</td>\n",
       "      <td>63.8810</td>\n",
       "    </tr>\n",
       "    <tr>\n",
       "      <th>2</th>\n",
       "      <td>Simay</td>\n",
       "      <td>13.3.1</td>\n",
       "      <td>&lt;&lt;HKDevice: 0x283621540&gt;, name:AirPods, manufa...</td>\n",
       "      <td>HeadphoneAudioExposure</td>\n",
       "      <td>dBASPL</td>\n",
       "      <td>2020-03-22 22:05:39 +0300</td>\n",
       "      <td>2020-03-22 21:57:49 +0300</td>\n",
       "      <td>2020-03-22 21:57:52 +0300</td>\n",
       "      <td>61.8912</td>\n",
       "    </tr>\n",
       "    <tr>\n",
       "      <th>3</th>\n",
       "      <td>Simay</td>\n",
       "      <td>13.3.1</td>\n",
       "      <td>&lt;&lt;HKDevice: 0x283621540&gt;, name:AirPods, manufa...</td>\n",
       "      <td>HeadphoneAudioExposure</td>\n",
       "      <td>dBASPL</td>\n",
       "      <td>2020-03-22 22:05:39 +0300</td>\n",
       "      <td>2020-03-22 21:57:56 +0300</td>\n",
       "      <td>2020-03-22 21:59:34 +0300</td>\n",
       "      <td>71.5014</td>\n",
       "    </tr>\n",
       "    <tr>\n",
       "      <th>4</th>\n",
       "      <td>Simay</td>\n",
       "      <td>13.3.1</td>\n",
       "      <td>&lt;&lt;HKDevice: 0x283621540&gt;, name:AirPods, manufa...</td>\n",
       "      <td>HeadphoneAudioExposure</td>\n",
       "      <td>dBASPL</td>\n",
       "      <td>2020-03-22 22:05:39 +0300</td>\n",
       "      <td>2020-03-22 21:59:34 +0300</td>\n",
       "      <td>2020-03-22 21:59:37 +0300</td>\n",
       "      <td>72.4064</td>\n",
       "    </tr>\n",
       "  </tbody>\n",
       "</table>\n",
       "</div>"
      ],
      "text/plain": [
       "  sourceName sourceVersion                                             device  \\\n",
       "0      Simay        13.3.1  <<HKDevice: 0x283621540>, name:AirPods, manufa...   \n",
       "1      Simay        13.3.1  <<HKDevice: 0x283621540>, name:AirPods, manufa...   \n",
       "2      Simay        13.3.1  <<HKDevice: 0x283621540>, name:AirPods, manufa...   \n",
       "3      Simay        13.3.1  <<HKDevice: 0x283621540>, name:AirPods, manufa...   \n",
       "4      Simay        13.3.1  <<HKDevice: 0x283621540>, name:AirPods, manufa...   \n",
       "\n",
       "                     type    unit               creationDate  \\\n",
       "0  HeadphoneAudioExposure  dBASPL  2020-03-19 20:28:35 +0300   \n",
       "1  HeadphoneAudioExposure  dBASPL  2020-03-22 22:05:39 +0300   \n",
       "2  HeadphoneAudioExposure  dBASPL  2020-03-22 22:05:39 +0300   \n",
       "3  HeadphoneAudioExposure  dBASPL  2020-03-22 22:05:39 +0300   \n",
       "4  HeadphoneAudioExposure  dBASPL  2020-03-22 22:05:39 +0300   \n",
       "\n",
       "                   startDate                    endDate    value  \n",
       "0  2020-03-19 20:17:34 +0300  2020-03-19 20:38:35 +0300  73.2572  \n",
       "1  2020-03-22 21:57:40 +0300  2020-03-22 21:57:49 +0300  63.8810  \n",
       "2  2020-03-22 21:57:49 +0300  2020-03-22 21:57:52 +0300  61.8912  \n",
       "3  2020-03-22 21:57:56 +0300  2020-03-22 21:59:34 +0300  71.5014  \n",
       "4  2020-03-22 21:59:34 +0300  2020-03-22 21:59:37 +0300  72.4064  "
      ]
     },
     "execution_count": 126,
     "metadata": {},
     "output_type": "execute_result"
    }
   ],
   "source": [
    "headphone_data = pd.read_csv(\"data/HeadphoneAudioExposure.csv\")\n",
    "headphone_data.head()"
   ]
  },
  {
   "cell_type": "code",
   "execution_count": 127,
   "metadata": {},
   "outputs": [
    {
     "data": {
      "text/plain": [
       "sourceName       0\n",
       "sourceVersion    0\n",
       "device           0\n",
       "type             0\n",
       "unit             0\n",
       "creationDate     0\n",
       "startDate        0\n",
       "endDate          0\n",
       "value            0\n",
       "dtype: int64"
      ]
     },
     "execution_count": 127,
     "metadata": {},
     "output_type": "execute_result"
    }
   ],
   "source": [
    "headphone_data.isnull().sum() # Checking for null values"
   ]
  },
  {
   "cell_type": "code",
   "execution_count": 128,
   "metadata": {},
   "outputs": [
    {
     "name": "stdout",
     "output_type": "stream",
     "text": [
      "<class 'pandas.core.frame.DataFrame'>\n",
      "RangeIndex: 10478 entries, 0 to 10477\n",
      "Data columns (total 9 columns):\n",
      " #   Column         Non-Null Count  Dtype  \n",
      "---  ------         --------------  -----  \n",
      " 0   sourceName     10478 non-null  object \n",
      " 1   sourceVersion  10478 non-null  object \n",
      " 2   device         10478 non-null  object \n",
      " 3   type           10478 non-null  object \n",
      " 4   unit           10478 non-null  object \n",
      " 5   creationDate   10478 non-null  object \n",
      " 6   startDate      10478 non-null  object \n",
      " 7   endDate        10478 non-null  object \n",
      " 8   value          10478 non-null  float64\n",
      "dtypes: float64(1), object(8)\n",
      "memory usage: 736.9+ KB\n"
     ]
    }
   ],
   "source": [
    "headphone_data.info() # Checking the data type of each column"
   ]
  },
  {
   "cell_type": "code",
   "execution_count": 129,
   "metadata": {},
   "outputs": [
    {
     "data": {
      "text/html": [
       "<div>\n",
       "<style scoped>\n",
       "    .dataframe tbody tr th:only-of-type {\n",
       "        vertical-align: middle;\n",
       "    }\n",
       "\n",
       "    .dataframe tbody tr th {\n",
       "        vertical-align: top;\n",
       "    }\n",
       "\n",
       "    .dataframe thead th {\n",
       "        text-align: right;\n",
       "    }\n",
       "</style>\n",
       "<table border=\"1\" class=\"dataframe\">\n",
       "  <thead>\n",
       "    <tr style=\"text-align: right;\">\n",
       "      <th></th>\n",
       "      <th>value</th>\n",
       "    </tr>\n",
       "  </thead>\n",
       "  <tbody>\n",
       "    <tr>\n",
       "      <th>count</th>\n",
       "      <td>10478.000000</td>\n",
       "    </tr>\n",
       "    <tr>\n",
       "      <th>mean</th>\n",
       "      <td>69.776811</td>\n",
       "    </tr>\n",
       "    <tr>\n",
       "      <th>std</th>\n",
       "      <td>18.002252</td>\n",
       "    </tr>\n",
       "    <tr>\n",
       "      <th>min</th>\n",
       "      <td>0.000000</td>\n",
       "    </tr>\n",
       "    <tr>\n",
       "      <th>25%</th>\n",
       "      <td>67.345625</td>\n",
       "    </tr>\n",
       "    <tr>\n",
       "      <th>50%</th>\n",
       "      <td>74.327700</td>\n",
       "    </tr>\n",
       "    <tr>\n",
       "      <th>75%</th>\n",
       "      <td>79.314100</td>\n",
       "    </tr>\n",
       "    <tr>\n",
       "      <th>max</th>\n",
       "      <td>96.090400</td>\n",
       "    </tr>\n",
       "  </tbody>\n",
       "</table>\n",
       "</div>"
      ],
      "text/plain": [
       "              value\n",
       "count  10478.000000\n",
       "mean      69.776811\n",
       "std       18.002252\n",
       "min        0.000000\n",
       "25%       67.345625\n",
       "50%       74.327700\n",
       "75%       79.314100\n",
       "max       96.090400"
      ]
     },
     "execution_count": 129,
     "metadata": {},
     "output_type": "execute_result"
    }
   ],
   "source": [
    "headphone_data.describe() # Describing the data"
   ]
  },
  {
   "cell_type": "code",
   "execution_count": 130,
   "metadata": {},
   "outputs": [
    {
     "data": {
      "text/html": [
       "<div>\n",
       "<style scoped>\n",
       "    .dataframe tbody tr th:only-of-type {\n",
       "        vertical-align: middle;\n",
       "    }\n",
       "\n",
       "    .dataframe tbody tr th {\n",
       "        vertical-align: top;\n",
       "    }\n",
       "\n",
       "    .dataframe thead th {\n",
       "        text-align: right;\n",
       "    }\n",
       "</style>\n",
       "<table border=\"1\" class=\"dataframe\">\n",
       "  <thead>\n",
       "    <tr style=\"text-align: right;\">\n",
       "      <th></th>\n",
       "      <th>startDate</th>\n",
       "      <th>value</th>\n",
       "    </tr>\n",
       "  </thead>\n",
       "  <tbody>\n",
       "    <tr>\n",
       "      <th>0</th>\n",
       "      <td>2020-03-19</td>\n",
       "      <td>73.257200</td>\n",
       "    </tr>\n",
       "    <tr>\n",
       "      <th>1</th>\n",
       "      <td>2020-03-22</td>\n",
       "      <td>68.269860</td>\n",
       "    </tr>\n",
       "    <tr>\n",
       "      <th>2</th>\n",
       "      <td>2020-03-23</td>\n",
       "      <td>57.631326</td>\n",
       "    </tr>\n",
       "    <tr>\n",
       "      <th>3</th>\n",
       "      <td>2020-03-24</td>\n",
       "      <td>64.110183</td>\n",
       "    </tr>\n",
       "    <tr>\n",
       "      <th>4</th>\n",
       "      <td>2020-03-26</td>\n",
       "      <td>65.684533</td>\n",
       "    </tr>\n",
       "  </tbody>\n",
       "</table>\n",
       "</div>"
      ],
      "text/plain": [
       "    startDate      value\n",
       "0  2020-03-19  73.257200\n",
       "1  2020-03-22  68.269860\n",
       "2  2020-03-23  57.631326\n",
       "3  2020-03-24  64.110183\n",
       "4  2020-03-26  65.684533"
      ]
     },
     "execution_count": 130,
     "metadata": {},
     "output_type": "execute_result"
    }
   ],
   "source": [
    "headphone_data['startDate'] = pd.to_datetime(headphone_data['startDate'])\n",
    "# Now grouping the data by date and taking the mean of the values\n",
    "headphone_data['startDate'] = headphone_data['startDate'].dt.date\n",
    "headphone_data = headphone_data.groupby('startDate').mean() # Grouping the data by date and taking the mean of the values\n",
    "headphone_data.reset_index(inplace=True) # Resetting the index\n",
    "headphone_data.head()"
   ]
  },
  {
   "cell_type": "code",
   "execution_count": 131,
   "metadata": {},
   "outputs": [
    {
     "data": {
      "text/html": [
       "<div>\n",
       "<style scoped>\n",
       "    .dataframe tbody tr th:only-of-type {\n",
       "        vertical-align: middle;\n",
       "    }\n",
       "\n",
       "    .dataframe tbody tr th {\n",
       "        vertical-align: top;\n",
       "    }\n",
       "\n",
       "    .dataframe thead th {\n",
       "        text-align: right;\n",
       "    }\n",
       "</style>\n",
       "<table border=\"1\" class=\"dataframe\">\n",
       "  <thead>\n",
       "    <tr style=\"text-align: right;\">\n",
       "      <th></th>\n",
       "      <th>startDate</th>\n",
       "      <th>value</th>\n",
       "    </tr>\n",
       "  </thead>\n",
       "  <tbody>\n",
       "    <tr>\n",
       "      <th>0</th>\n",
       "      <td>2020-03-19</td>\n",
       "      <td>73.257200</td>\n",
       "    </tr>\n",
       "    <tr>\n",
       "      <th>1</th>\n",
       "      <td>2020-03-22</td>\n",
       "      <td>68.269860</td>\n",
       "    </tr>\n",
       "    <tr>\n",
       "      <th>2</th>\n",
       "      <td>2020-03-23</td>\n",
       "      <td>57.631326</td>\n",
       "    </tr>\n",
       "    <tr>\n",
       "      <th>3</th>\n",
       "      <td>2020-03-24</td>\n",
       "      <td>64.110183</td>\n",
       "    </tr>\n",
       "    <tr>\n",
       "      <th>4</th>\n",
       "      <td>2020-03-26</td>\n",
       "      <td>65.684533</td>\n",
       "    </tr>\n",
       "    <tr>\n",
       "      <th>...</th>\n",
       "      <td>...</td>\n",
       "      <td>...</td>\n",
       "    </tr>\n",
       "    <tr>\n",
       "      <th>712</th>\n",
       "      <td>2023-12-04</td>\n",
       "      <td>58.793125</td>\n",
       "    </tr>\n",
       "    <tr>\n",
       "      <th>713</th>\n",
       "      <td>2023-12-05</td>\n",
       "      <td>67.830511</td>\n",
       "    </tr>\n",
       "    <tr>\n",
       "      <th>714</th>\n",
       "      <td>2023-12-06</td>\n",
       "      <td>21.019671</td>\n",
       "    </tr>\n",
       "    <tr>\n",
       "      <th>715</th>\n",
       "      <td>2023-12-07</td>\n",
       "      <td>66.768270</td>\n",
       "    </tr>\n",
       "    <tr>\n",
       "      <th>716</th>\n",
       "      <td>2023-12-08</td>\n",
       "      <td>70.361180</td>\n",
       "    </tr>\n",
       "  </tbody>\n",
       "</table>\n",
       "<p>717 rows × 2 columns</p>\n",
       "</div>"
      ],
      "text/plain": [
       "      startDate      value\n",
       "0    2020-03-19  73.257200\n",
       "1    2020-03-22  68.269860\n",
       "2    2020-03-23  57.631326\n",
       "3    2020-03-24  64.110183\n",
       "4    2020-03-26  65.684533\n",
       "..          ...        ...\n",
       "712  2023-12-04  58.793125\n",
       "713  2023-12-05  67.830511\n",
       "714  2023-12-06  21.019671\n",
       "715  2023-12-07  66.768270\n",
       "716  2023-12-08  70.361180\n",
       "\n",
       "[717 rows x 2 columns]"
      ]
     },
     "execution_count": 131,
     "metadata": {},
     "output_type": "execute_result"
    }
   ],
   "source": [
    "headphone_data"
   ]
  },
  {
   "cell_type": "markdown",
   "metadata": {},
   "source": [
    "## Audio Exposure"
   ]
  },
  {
   "cell_type": "code",
   "execution_count": 132,
   "metadata": {},
   "outputs": [
    {
     "data": {
      "text/html": [
       "<div>\n",
       "<style scoped>\n",
       "    .dataframe tbody tr th:only-of-type {\n",
       "        vertical-align: middle;\n",
       "    }\n",
       "\n",
       "    .dataframe tbody tr th {\n",
       "        vertical-align: top;\n",
       "    }\n",
       "\n",
       "    .dataframe thead th {\n",
       "        text-align: right;\n",
       "    }\n",
       "</style>\n",
       "<table border=\"1\" class=\"dataframe\">\n",
       "  <thead>\n",
       "    <tr style=\"text-align: right;\">\n",
       "      <th></th>\n",
       "      <th>sourceName</th>\n",
       "      <th>sourceVersion</th>\n",
       "      <th>device</th>\n",
       "      <th>type</th>\n",
       "      <th>unit</th>\n",
       "      <th>creationDate</th>\n",
       "      <th>startDate</th>\n",
       "      <th>endDate</th>\n",
       "      <th>value</th>\n",
       "    </tr>\n",
       "  </thead>\n",
       "  <tbody>\n",
       "    <tr>\n",
       "      <th>0</th>\n",
       "      <td>Simay Apple Watch’u</td>\n",
       "      <td>9.0.2</td>\n",
       "      <td>&lt;&lt;HKDevice: 0x2836200f0&gt;, name:Apple Watch, ma...</td>\n",
       "      <td>EnvironmentalAudioExposure</td>\n",
       "      <td>dBASPL</td>\n",
       "      <td>2023-02-23 23:32:40 +0300</td>\n",
       "      <td>2023-02-23 23:22:35 +0300</td>\n",
       "      <td>2023-02-23 23:52:30 +0300</td>\n",
       "      <td>68.3561</td>\n",
       "    </tr>\n",
       "    <tr>\n",
       "      <th>1</th>\n",
       "      <td>Simay Apple Watch’u</td>\n",
       "      <td>9.0.2</td>\n",
       "      <td>&lt;&lt;HKDevice: 0x2836200f0&gt;, name:Apple Watch, ma...</td>\n",
       "      <td>EnvironmentalAudioExposure</td>\n",
       "      <td>dBASPL</td>\n",
       "      <td>2023-02-24 00:02:56 +0300</td>\n",
       "      <td>2023-02-23 23:52:30 +0300</td>\n",
       "      <td>2023-02-24 00:22:30 +0300</td>\n",
       "      <td>57.9453</td>\n",
       "    </tr>\n",
       "    <tr>\n",
       "      <th>2</th>\n",
       "      <td>Simay Apple Watch’u</td>\n",
       "      <td>9.0.2</td>\n",
       "      <td>&lt;&lt;HKDevice: 0x2836200f0&gt;, name:Apple Watch, ma...</td>\n",
       "      <td>EnvironmentalAudioExposure</td>\n",
       "      <td>dBASPL</td>\n",
       "      <td>2023-02-24 00:23:08 +0300</td>\n",
       "      <td>2023-02-24 00:22:30 +0300</td>\n",
       "      <td>2023-02-24 00:29:00 +0300</td>\n",
       "      <td>54.3620</td>\n",
       "    </tr>\n",
       "    <tr>\n",
       "      <th>3</th>\n",
       "      <td>Simay Apple Watch’u</td>\n",
       "      <td>9.0.2</td>\n",
       "      <td>&lt;&lt;HKDevice: 0x2836200f0&gt;, name:Apple Watch, ma...</td>\n",
       "      <td>EnvironmentalAudioExposure</td>\n",
       "      <td>dBASPL</td>\n",
       "      <td>2023-02-24 13:00:05 +0300</td>\n",
       "      <td>2023-02-24 11:55:41 +0300</td>\n",
       "      <td>2023-02-24 12:01:25 +0300</td>\n",
       "      <td>52.7494</td>\n",
       "    </tr>\n",
       "    <tr>\n",
       "      <th>4</th>\n",
       "      <td>Simay Apple Watch’u</td>\n",
       "      <td>9.0.2</td>\n",
       "      <td>&lt;&lt;HKDevice: 0x2836200f0&gt;, name:Apple Watch, ma...</td>\n",
       "      <td>EnvironmentalAudioExposure</td>\n",
       "      <td>dBASPL</td>\n",
       "      <td>2023-02-24 15:33:00 +0300</td>\n",
       "      <td>2023-02-24 13:16:19 +0300</td>\n",
       "      <td>2023-02-24 13:16:44 +0300</td>\n",
       "      <td>40.2013</td>\n",
       "    </tr>\n",
       "  </tbody>\n",
       "</table>\n",
       "</div>"
      ],
      "text/plain": [
       "            sourceName sourceVersion  \\\n",
       "0  Simay Apple Watch’u         9.0.2   \n",
       "1  Simay Apple Watch’u         9.0.2   \n",
       "2  Simay Apple Watch’u         9.0.2   \n",
       "3  Simay Apple Watch’u         9.0.2   \n",
       "4  Simay Apple Watch’u         9.0.2   \n",
       "\n",
       "                                              device  \\\n",
       "0  <<HKDevice: 0x2836200f0>, name:Apple Watch, ma...   \n",
       "1  <<HKDevice: 0x2836200f0>, name:Apple Watch, ma...   \n",
       "2  <<HKDevice: 0x2836200f0>, name:Apple Watch, ma...   \n",
       "3  <<HKDevice: 0x2836200f0>, name:Apple Watch, ma...   \n",
       "4  <<HKDevice: 0x2836200f0>, name:Apple Watch, ma...   \n",
       "\n",
       "                         type    unit               creationDate  \\\n",
       "0  EnvironmentalAudioExposure  dBASPL  2023-02-23 23:32:40 +0300   \n",
       "1  EnvironmentalAudioExposure  dBASPL  2023-02-24 00:02:56 +0300   \n",
       "2  EnvironmentalAudioExposure  dBASPL  2023-02-24 00:23:08 +0300   \n",
       "3  EnvironmentalAudioExposure  dBASPL  2023-02-24 13:00:05 +0300   \n",
       "4  EnvironmentalAudioExposure  dBASPL  2023-02-24 15:33:00 +0300   \n",
       "\n",
       "                   startDate                    endDate    value  \n",
       "0  2023-02-23 23:22:35 +0300  2023-02-23 23:52:30 +0300  68.3561  \n",
       "1  2023-02-23 23:52:30 +0300  2023-02-24 00:22:30 +0300  57.9453  \n",
       "2  2023-02-24 00:22:30 +0300  2023-02-24 00:29:00 +0300  54.3620  \n",
       "3  2023-02-24 11:55:41 +0300  2023-02-24 12:01:25 +0300  52.7494  \n",
       "4  2023-02-24 13:16:19 +0300  2023-02-24 13:16:44 +0300  40.2013  "
      ]
     },
     "execution_count": 132,
     "metadata": {},
     "output_type": "execute_result"
    }
   ],
   "source": [
    "exposure_audio_data = pd.read_csv(\"data/EnvironmentalAudioExposure.csv\")\n",
    "exposure_audio_data.head()"
   ]
  },
  {
   "cell_type": "code",
   "execution_count": 133,
   "metadata": {},
   "outputs": [
    {
     "data": {
      "text/plain": [
       "sourceName       0\n",
       "sourceVersion    0\n",
       "device           0\n",
       "type             0\n",
       "unit             0\n",
       "creationDate     0\n",
       "startDate        0\n",
       "endDate          0\n",
       "value            0\n",
       "dtype: int64"
      ]
     },
     "execution_count": 133,
     "metadata": {},
     "output_type": "execute_result"
    }
   ],
   "source": [
    "exposure_audio_data.isnull().sum() # Checking for null values"
   ]
  },
  {
   "cell_type": "code",
   "execution_count": 134,
   "metadata": {},
   "outputs": [
    {
     "name": "stdout",
     "output_type": "stream",
     "text": [
      "<class 'pandas.core.frame.DataFrame'>\n",
      "RangeIndex: 3718 entries, 0 to 3717\n",
      "Data columns (total 9 columns):\n",
      " #   Column         Non-Null Count  Dtype  \n",
      "---  ------         --------------  -----  \n",
      " 0   sourceName     3718 non-null   object \n",
      " 1   sourceVersion  3718 non-null   object \n",
      " 2   device         3718 non-null   object \n",
      " 3   type           3718 non-null   object \n",
      " 4   unit           3718 non-null   object \n",
      " 5   creationDate   3718 non-null   object \n",
      " 6   startDate      3718 non-null   object \n",
      " 7   endDate        3718 non-null   object \n",
      " 8   value          3718 non-null   float64\n",
      "dtypes: float64(1), object(8)\n",
      "memory usage: 261.5+ KB\n"
     ]
    }
   ],
   "source": [
    "exposure_audio_data.info() # Checking the data type of each column"
   ]
  },
  {
   "cell_type": "code",
   "execution_count": 135,
   "metadata": {},
   "outputs": [
    {
     "data": {
      "text/html": [
       "<div>\n",
       "<style scoped>\n",
       "    .dataframe tbody tr th:only-of-type {\n",
       "        vertical-align: middle;\n",
       "    }\n",
       "\n",
       "    .dataframe tbody tr th {\n",
       "        vertical-align: top;\n",
       "    }\n",
       "\n",
       "    .dataframe thead th {\n",
       "        text-align: right;\n",
       "    }\n",
       "</style>\n",
       "<table border=\"1\" class=\"dataframe\">\n",
       "  <thead>\n",
       "    <tr style=\"text-align: right;\">\n",
       "      <th></th>\n",
       "      <th>startDate</th>\n",
       "      <th>value</th>\n",
       "    </tr>\n",
       "  </thead>\n",
       "  <tbody>\n",
       "    <tr>\n",
       "      <th>0</th>\n",
       "      <td>2023-02-23</td>\n",
       "      <td>63.150700</td>\n",
       "    </tr>\n",
       "    <tr>\n",
       "      <th>1</th>\n",
       "      <td>2023-02-24</td>\n",
       "      <td>42.297443</td>\n",
       "    </tr>\n",
       "    <tr>\n",
       "      <th>2</th>\n",
       "      <td>2023-03-26</td>\n",
       "      <td>66.110033</td>\n",
       "    </tr>\n",
       "    <tr>\n",
       "      <th>3</th>\n",
       "      <td>2023-03-28</td>\n",
       "      <td>51.066853</td>\n",
       "    </tr>\n",
       "    <tr>\n",
       "      <th>4</th>\n",
       "      <td>2023-03-29</td>\n",
       "      <td>56.552196</td>\n",
       "    </tr>\n",
       "  </tbody>\n",
       "</table>\n",
       "</div>"
      ],
      "text/plain": [
       "    startDate      value\n",
       "0  2023-02-23  63.150700\n",
       "1  2023-02-24  42.297443\n",
       "2  2023-03-26  66.110033\n",
       "3  2023-03-28  51.066853\n",
       "4  2023-03-29  56.552196"
      ]
     },
     "execution_count": 135,
     "metadata": {},
     "output_type": "execute_result"
    }
   ],
   "source": [
    "exposure_audio_data['startDate'] = pd.to_datetime(exposure_audio_data['startDate'])\n",
    "exposure_audio_data['startDate'] = exposure_audio_data['startDate'].dt.date\n",
    "exposure_audio_data = exposure_audio_data.groupby('startDate').mean() # Grouping the data by date and taking the mean of the values\n",
    "exposure_audio_data.reset_index(inplace=True) # Resetting the index\n",
    "exposure_audio_data.head()"
   ]
  },
  {
   "cell_type": "markdown",
   "metadata": {},
   "source": [
    "# Visualization and Analysis"
   ]
  },
  {
   "cell_type": "markdown",
   "metadata": {},
   "source": [
    "### Hearth Rate Analysis"
   ]
  },
  {
   "cell_type": "code",
   "execution_count": 138,
   "metadata": {},
   "outputs": [
    {
     "data": {
      "image/png": "[encoded data removed]",
      "text/plain": [
       "<Figure size 864x432 with 1 Axes>"
      ]
     },
     "metadata": {
      "needs_background": "light"
     },
     "output_type": "display_data"
    }
   ],
   "source": [
    "plt.figure(figsize=(12, 6))\n",
    "plt.hist(hearth_rate_data['value'], bins=30, color='blue', edgecolor='black')\n",
    "plt.title('Distribution of Heart Rate Measurements')\n",
    "plt.xlabel('Heart Rate (BPM)')\n",
    "plt.ylabel('Frequency')\n",
    "plt.grid(True)\n",
    "plt.show()"
   ]
  },
  {
   "cell_type": "code",
   "execution_count": null,
   "metadata": {},
   "outputs": [
    {
     "data": {
      "image/png": "[encoded data removed]",
      "text/plain": [
       "<Figure size 864x720 with 1 Axes>"
      ]
     },
     "metadata": {
      "needs_background": "light"
     },
     "output_type": "display_data"
    }
   ],
   "source": [
    "# Plotting the hearth rate data\n",
    "plt.figure(figsize=(12,10))\n",
    "plt.plot(hearth_rate_data['startDate'], hearth_rate_data['value'], marker='o', linestyle='-')\n",
    "plt.title(\"Hearth Rate\")\n",
    "plt.xlabel(\"Date\")\n",
    "plt.ylabel(\"Hearth Rate(bpm)\")\n",
    "plt.show()"
   ]
  },
  {
   "cell_type": "markdown",
   "metadata": {},
   "source": [
    "#### Anomaly Detection Analysis"
   ]
  },
  {
   "cell_type": "code",
   "execution_count": 274,
   "metadata": {},
   "outputs": [],
   "source": [
    "hearth_rate_data.columns.values[1] = \"Hearth Rate\""
   ]
  },
  {
   "cell_type": "code",
   "execution_count": 277,
   "metadata": {},
   "outputs": [
    {
     "data": {
      "image/png": "[encoded data removed]",
      "text/plain": [
       "<Figure size 864x432 with 1 Axes>"
      ]
     },
     "metadata": {
      "needs_background": "light"
     },
     "output_type": "display_data"
    }
   ],
   "source": [
    "from sklearn.ensemble import IsolationForest\n",
    "import matplotlib.pyplot as plt\n",
    "\n",
    "# Assuming your heart rate data is stored in a DataFrame named `hearth_rate_data`\n",
    "model = IsolationForest(n_estimators=100, contamination='auto')\n",
    "model.fit(hearth_rate_data[['Hearth Rate']])\n",
    "\n",
    "\n",
    "hearth_rate_data['anomaly'] = model.predict(hearth_rate_data[['Hearth Rate']])\n",
    "\n",
    "plt.figure(figsize=(12,6))\n",
    "plt.scatter(hearth_rate_data.index, hearth_rate_data['Hearth Rate'], c=hearth_rate_data['anomaly'], cmap='coolwarm')\n",
    "plt.title('Anomaly Detection in Heart Rate Data')\n",
    "plt.xlabel('Index')\n",
    "plt.ylabel('Heart Rate')\n",
    "plt.show()\n",
    "\n"
   ]
  },
  {
   "cell_type": "markdown",
   "metadata": {},
   "source": [
    "Lowest Hearth Rate is recorded as 40. "
   ]
  },
  {
   "cell_type": "markdown",
   "metadata": {},
   "source": [
    "### Physical Activities"
   ]
  },
  {
   "cell_type": "markdown",
   "metadata": {},
   "source": [
    "#### Steps"
   ]
  },
  {
   "cell_type": "code",
   "execution_count": null,
   "metadata": {},
   "outputs": [
    {
     "data": {
      "image/png": "[encoded data removed]",
      "text/plain": [
       "<Figure size 432x288 with 1 Axes>"
      ]
     },
     "metadata": {
      "needs_background": "light"
     },
     "output_type": "display_data"
    }
   ],
   "source": [
    "steps_data['value'].hist()\n",
    "plt.title('Histogram of Steps')\n",
    "plt.xlabel('Number of Steps')\n",
    "plt.ylabel('Frequency')\n",
    "plt.show()\n"
   ]
  },
  {
   "cell_type": "code",
   "execution_count": null,
   "metadata": {},
   "outputs": [
    {
     "data": {
      "image/png": "[encoded data removed]",
      "text/plain": [
       "<Figure size 1440x1152 with 1 Axes>"
      ]
     },
     "metadata": {
      "needs_background": "light"
     },
     "output_type": "display_data"
    }
   ],
   "source": [
    "# Plotting the step data\n",
    "plt.figure(figsize=(20, 16))\n",
    "plt.scatter(steps_data['startDate'], steps_data['value'], marker='o', linestyle='-', color='green')\n",
    "plt.title('Step Count Over Time')\n",
    "plt.xlabel('Date')\n",
    "plt.ylabel('Step Count')\n",
    "plt.xticks(rotation=45)\n",
    "plt.show()\n"
   ]
  },
  {
   "cell_type": "markdown",
   "metadata": {},
   "source": [
    "#### Walking + Running Distance"
   ]
  },
  {
   "cell_type": "code",
   "execution_count": null,
   "metadata": {},
   "outputs": [
    {
     "data": {
      "image/png": "[encoded data removed]",
      "text/plain": [
       "<Figure size 1440x864 with 1 Axes>"
      ]
     },
     "metadata": {
      "needs_background": "light"
     },
     "output_type": "display_data"
    }
   ],
   "source": [
    "# Import necessary libraries\n",
    "import matplotlib.pyplot as plt\n",
    "\n",
    "# Line plot of distance over time\n",
    "plt.figure(figsize=(20, 12))\n",
    "plt.bar(walk_run_data['startDate'], walk_run_data['value'], linestyle='-', color='green')\n",
    "plt.title('Walking + Running Distance Over Time')\n",
    "plt.xlabel('Date')\n",
    "plt.ylabel('Distance (km)')\n",
    "plt.xticks(rotation=45)\n",
    "plt.show()\n",
    "\n"
   ]
  },
  {
   "cell_type": "markdown",
   "metadata": {},
   "source": [
    "#### Flights Climbed"
   ]
  },
  {
   "cell_type": "code",
   "execution_count": 159,
   "metadata": {},
   "outputs": [
    {
     "data": {
      "image/png": "[encoded data removed]",
      "text/plain": [
       "<Figure size 1440x864 with 1 Axes>"
      ]
     },
     "metadata": {
      "needs_background": "light"
     },
     "output_type": "display_data"
    }
   ],
   "source": [
    "plt.figure(figsize=(20, 12))\n",
    "plt.bar(stairs_data['startDate'], stairs_data['value'], linestyle='-', color='green')\n",
    "plt.title('Flights Climbed Over Time')\n",
    "plt.xlabel('Date')\n",
    "plt.ylabel('Flights Climbed')\n",
    "plt.xticks(rotation=45)\n",
    "plt.show()"
   ]
  },
  {
   "cell_type": "markdown",
   "metadata": {},
   "source": [
    "#### Energy Consumption"
   ]
  },
  {
   "cell_type": "code",
   "execution_count": null,
   "metadata": {},
   "outputs": [
    {
     "data": {
      "image/png": "[encoded data removed]",
      "text/plain": [
       "<Figure size 864x432 with 1 Axes>"
      ]
     },
     "metadata": {
      "needs_background": "light"
     },
     "output_type": "display_data"
    }
   ],
   "source": [
    "plt.figure(figsize=(12, 6))\n",
    "plt.scatter(burned_energy_active['startDate'], burned_energy_active['value'], color='red')\n",
    "plt.title('Burned Energy from Active Activities Over Time (kcal)')\n",
    "plt.xlabel('Date')\n",
    "plt.ylabel('Burned Energy (kcal)')\n",
    "plt.xticks(rotation=45)\n",
    "plt.show()\n"
   ]
  },
  {
   "cell_type": "code",
   "execution_count": null,
   "metadata": {},
   "outputs": [
    {
     "data": {
      "image/png": "[encoded data removed]",
      "text/plain": [
       "<Figure size 864x432 with 1 Axes>"
      ]
     },
     "metadata": {
      "needs_background": "light"
     },
     "output_type": "display_data"
    }
   ],
   "source": [
    "plt.figure(figsize=(12, 6))\n",
    "plt.scatter(burned_energy_basal['startDate'], burned_energy_basal['value'], color='red')\n",
    "plt.title('Burned Energy from Basal Activities Over Time (kcal)')\n",
    "plt.xlabel('Date')\n",
    "plt.ylabel('Burned Energy (kcal)')\n",
    "plt.xticks(rotation=45)\n",
    "plt.show()"
   ]
  },
  {
   "cell_type": "markdown",
   "metadata": {},
   "source": [
    "### Sleep Analysis"
   ]
  },
  {
   "cell_type": "code",
   "execution_count": 147,
   "metadata": {},
   "outputs": [
    {
     "data": {
      "image/png": "[encoded data removed]",
      "text/plain": [
       "<Figure size 2160x1080 with 1 Axes>"
      ]
     },
     "metadata": {
      "needs_background": "light"
     },
     "output_type": "display_data"
    }
   ],
   "source": [
    "# Converting relevant columns to appropriate data types for sleep data\n",
    "sleep_data['startDate'] = pd.to_datetime(sleep_data['startDate'])\n",
    "sleep_data['endDate'] = pd.to_datetime(sleep_data['endDate'])\n",
    "sleep_data['value'] = sleep_data['value'].astype(str)\n",
    "\n",
    "# Calculating the duration of each sleep record\n",
    "sleep_data['duration'] = (sleep_data['endDate'] - sleep_data['startDate']).dt.total_seconds() / 3600  # duration in hours\n",
    "\n",
    "# Grouping the data by week and calculating the average sleep duration per week\n",
    "sleep_data['date'] = sleep_data['startDate'].dt.date\n",
    "weekly_sleep_duration = sleep_data.set_index('startDate').resample('W')['duration'].mean()\n",
    "\n",
    "# Formatting the x-axis to show dates in 'dd-mm-yyyy' format\n",
    "weekly_sleep_duration.index = weekly_sleep_duration.index.strftime('%d-%m-%Y')\n",
    "\n",
    "# Plotting the weekly average sleep duration\n",
    "plt.figure(figsize=(30, 15))\n",
    "weekly_sleep_duration.plot(kind='bar', color='orange')\n",
    "plt.title('Weekly Average Sleep Duration')\n",
    "plt.xlabel('Week (dd-mm-yyyy)')\n",
    "plt.ylabel('Average Sleep Hours per Week')\n",
    "plt.xticks(rotation=45)\n",
    "plt.grid(True)\n",
    "plt.show()"
   ]
  },
  {
   "cell_type": "markdown",
   "metadata": {},
   "source": [
    "### Headphone"
   ]
  },
  {
   "cell_type": "code",
   "execution_count": 148,
   "metadata": {},
   "outputs": [
    {
     "data": {
      "image/png": "[encoded data removed]",
      "text/plain": [
       "<Figure size 2160x1440 with 2 Axes>"
      ]
     },
     "metadata": {
      "needs_background": "light"
     },
     "output_type": "display_data"
    }
   ],
   "source": [
    "import seaborn as sns\n",
    "headphone_data['startDate'] = pd.to_datetime(headphone_data['startDate'])\n",
    "headphone_data['value'] = headphone_data['value'].astype(float)\n",
    "\n",
    "# Group the data by week and calculate the mean decibel value for each week\n",
    "headphone_data['week'] = headphone_data['startDate'].dt.isocalendar().week\n",
    "headphone_data['day'] = headphone_data['startDate'].dt.day_name()\n",
    "weekly_data = headphone_data.groupby(['week', 'day'])['value'].mean().reset_index()\n",
    "\n",
    "# Create a pivot table for the heatmap\n",
    "pivot_table = weekly_data.pivot('day', 'week', 'value')\n",
    "\n",
    "# Create the heatmap\n",
    "plt.figure(figsize=(30, 20))\n",
    "sns.heatmap(pivot_table, annot=True, fmt=\".1f\", linewidths=.5, cmap='coolwarm')\n",
    "plt.title('Decibel Levels by Weekday and Week Number')\n",
    "plt.ylabel('Day of Week')\n",
    "plt.xlabel('Week Number')\n",
    "plt.show()"
   ]
  },
  {
   "cell_type": "markdown",
   "metadata": {},
   "source": [
    "### Audio Exposure"
   ]
  },
  {
   "cell_type": "code",
   "execution_count": 149,
   "metadata": {},
   "outputs": [
    {
     "data": {
      "image/png": "[encoded data removed]",
      "text/plain": [
       "<Figure size 2160x1440 with 2 Axes>"
      ]
     },
     "metadata": {
      "needs_background": "light"
     },
     "output_type": "display_data"
    }
   ],
   "source": [
    "exposure_audio_data['startDate'] = pd.to_datetime(headphone_data['startDate'])\n",
    "exposure_audio_data['value'] = exposure_audio_data['value'].astype(float)\n",
    "\n",
    "# Group the data by week and calculate the mean decibel value for each week\n",
    "exposure_audio_data['week'] = exposure_audio_data['startDate'].dt.isocalendar().week\n",
    "exposure_audio_data['day'] = exposure_audio_data['startDate'].dt.day_name()\n",
    "weekly_data = exposure_audio_data.groupby(['week', 'day'])['value'].mean().reset_index()\n",
    "\n",
    "# Create a pivot table for the heatmap\n",
    "pivot_table = weekly_data.pivot('day', 'week', 'value')\n",
    "\n",
    "# Create the heatmap\n",
    "plt.figure(figsize=(30, 20))\n",
    "sns.heatmap(pivot_table, annot=True, fmt=\".1f\", linewidths=.5, cmap='coolwarm')\n",
    "plt.title('Decibel Levels by Weekday and Week Number')\n",
    "plt.ylabel('Day of Week')\n",
    "plt.xlabel('Week Number')\n",
    "plt.show()"
   ]
  },
  {
   "cell_type": "markdown",
   "metadata": {},
   "source": [
    "# My Health Score"
   ]
  },
  {
   "cell_type": "markdown",
   "metadata": {},
   "source": [
    "In this section, I focus on creating a singular \"Health Score\" from diverse health metrics: Steps, Heart Rate, Burned Energy Active, and Flights Climbed. My aim is to condense these varied data points into a comprehensive score between 0 and 100, reflecting overall health."
   ]
  },
  {
   "cell_type": "code",
   "execution_count": 288,
   "metadata": {},
   "outputs": [],
   "source": [
    "combined_data = pd.concat([steps_data['value'], hearth_rate_data['Hearth Rate'], burned_energy_active['value'], stairs_data['value']], axis=1) # Concatenating the dataframes"
   ]
  },
  {
   "cell_type": "code",
   "execution_count": 290,
   "metadata": {},
   "outputs": [],
   "source": [
    "combined_data = combined_data.fillna(combined_data.mean()) # Filling the null values with the mean of the column"
   ]
  },
  {
   "cell_type": "code",
   "execution_count": 291,
   "metadata": {},
   "outputs": [
    {
     "data": {
      "text/html": [
       "<div>\n",
       "<style scoped>\n",
       "    .dataframe tbody tr th:only-of-type {\n",
       "        vertical-align: middle;\n",
       "    }\n",
       "\n",
       "    .dataframe tbody tr th {\n",
       "        vertical-align: top;\n",
       "    }\n",
       "\n",
       "    .dataframe thead th {\n",
       "        text-align: right;\n",
       "    }\n",
       "</style>\n",
       "<table border=\"1\" class=\"dataframe\">\n",
       "  <thead>\n",
       "    <tr style=\"text-align: right;\">\n",
       "      <th></th>\n",
       "      <th>Steps</th>\n",
       "      <th>Hearth Rate</th>\n",
       "      <th>Burned Energy Active</th>\n",
       "      <th>Flights Climbed</th>\n",
       "    </tr>\n",
       "  </thead>\n",
       "  <tbody>\n",
       "    <tr>\n",
       "      <th>0</th>\n",
       "      <td>337</td>\n",
       "      <td>60.024922</td>\n",
       "      <td>215.148064</td>\n",
       "      <td>3.00000</td>\n",
       "    </tr>\n",
       "    <tr>\n",
       "      <th>1</th>\n",
       "      <td>962</td>\n",
       "      <td>60.000000</td>\n",
       "      <td>152.363687</td>\n",
       "      <td>1.00000</td>\n",
       "    </tr>\n",
       "    <tr>\n",
       "      <th>2</th>\n",
       "      <td>1027</td>\n",
       "      <td>79.250000</td>\n",
       "      <td>100.631153</td>\n",
       "      <td>4.00000</td>\n",
       "    </tr>\n",
       "    <tr>\n",
       "      <th>3</th>\n",
       "      <td>757</td>\n",
       "      <td>83.900379</td>\n",
       "      <td>4.061038</td>\n",
       "      <td>4.00000</td>\n",
       "    </tr>\n",
       "    <tr>\n",
       "      <th>4</th>\n",
       "      <td>1810</td>\n",
       "      <td>98.482994</td>\n",
       "      <td>43.264429</td>\n",
       "      <td>10.00000</td>\n",
       "    </tr>\n",
       "    <tr>\n",
       "      <th>...</th>\n",
       "      <td>...</td>\n",
       "      <td>...</td>\n",
       "      <td>...</td>\n",
       "      <td>...</td>\n",
       "    </tr>\n",
       "    <tr>\n",
       "      <th>1980</th>\n",
       "      <td>4510</td>\n",
       "      <td>80.615188</td>\n",
       "      <td>151.731547</td>\n",
       "      <td>8.11326</td>\n",
       "    </tr>\n",
       "    <tr>\n",
       "      <th>1981</th>\n",
       "      <td>2722</td>\n",
       "      <td>80.615188</td>\n",
       "      <td>151.731547</td>\n",
       "      <td>8.11326</td>\n",
       "    </tr>\n",
       "    <tr>\n",
       "      <th>1982</th>\n",
       "      <td>2167</td>\n",
       "      <td>80.615188</td>\n",
       "      <td>151.731547</td>\n",
       "      <td>8.11326</td>\n",
       "    </tr>\n",
       "    <tr>\n",
       "      <th>1983</th>\n",
       "      <td>4269</td>\n",
       "      <td>80.615188</td>\n",
       "      <td>151.731547</td>\n",
       "      <td>8.11326</td>\n",
       "    </tr>\n",
       "    <tr>\n",
       "      <th>1984</th>\n",
       "      <td>116</td>\n",
       "      <td>80.615188</td>\n",
       "      <td>151.731547</td>\n",
       "      <td>8.11326</td>\n",
       "    </tr>\n",
       "  </tbody>\n",
       "</table>\n",
       "<p>1985 rows × 4 columns</p>\n",
       "</div>"
      ],
      "text/plain": [
       "      Steps  Hearth Rate  Burned Energy Active  Flights Climbed\n",
       "0       337    60.024922            215.148064          3.00000\n",
       "1       962    60.000000            152.363687          1.00000\n",
       "2      1027    79.250000            100.631153          4.00000\n",
       "3       757    83.900379              4.061038          4.00000\n",
       "4      1810    98.482994             43.264429         10.00000\n",
       "...     ...          ...                   ...              ...\n",
       "1980   4510    80.615188            151.731547          8.11326\n",
       "1981   2722    80.615188            151.731547          8.11326\n",
       "1982   2167    80.615188            151.731547          8.11326\n",
       "1983   4269    80.615188            151.731547          8.11326\n",
       "1984    116    80.615188            151.731547          8.11326\n",
       "\n",
       "[1985 rows x 4 columns]"
      ]
     },
     "execution_count": 291,
     "metadata": {},
     "output_type": "execute_result"
    }
   ],
   "source": [
    "combined_data"
   ]
  },
  {
   "cell_type": "code",
   "execution_count": 329,
   "metadata": {},
   "outputs": [],
   "source": [
    "def calculate_health_score(row):\n",
    "    # Modify these based on your health criteria and data\n",
    "    steps_score = min((row['Steps'] / 10000) * 30, 30)\n",
    "    heart_rate_score = 25 - (row['Hearth Rate'] - 60) / 4  # Example, adjust based on your data\n",
    "    energy_score = min((row['Burned Energy Active'] / 500) * 30, 30)\n",
    "    flights_score = min((row['Flights Climbed'] / 1) * 15, 15)\n",
    "\n",
    "    total_score = steps_score + heart_rate_score + energy_score + flights_score\n",
    "    return min(total_score, 100)\n",
    "\n",
    "combined_data['health_score'] = combined_data.apply(calculate_health_score, axis=1)\n"
   ]
  },
  {
   "cell_type": "code",
   "execution_count": 338,
   "metadata": {},
   "outputs": [
    {
     "data": {
      "text/html": [
       "<div>\n",
       "<style scoped>\n",
       "    .dataframe tbody tr th:only-of-type {\n",
       "        vertical-align: middle;\n",
       "    }\n",
       "\n",
       "    .dataframe tbody tr th {\n",
       "        vertical-align: top;\n",
       "    }\n",
       "\n",
       "    .dataframe thead th {\n",
       "        text-align: right;\n",
       "    }\n",
       "</style>\n",
       "<table border=\"1\" class=\"dataframe\">\n",
       "  <thead>\n",
       "    <tr style=\"text-align: right;\">\n",
       "      <th></th>\n",
       "      <th>Steps</th>\n",
       "      <th>Hearth Rate</th>\n",
       "      <th>Burned Energy Active</th>\n",
       "      <th>Flights Climbed</th>\n",
       "      <th>health_score</th>\n",
       "    </tr>\n",
       "  </thead>\n",
       "  <tbody>\n",
       "    <tr>\n",
       "      <th>0</th>\n",
       "      <td>337</td>\n",
       "      <td>60.024922</td>\n",
       "      <td>215.148064</td>\n",
       "      <td>3.0</td>\n",
       "      <td>53.913653</td>\n",
       "    </tr>\n",
       "    <tr>\n",
       "      <th>1</th>\n",
       "      <td>962</td>\n",
       "      <td>60.000000</td>\n",
       "      <td>152.363687</td>\n",
       "      <td>1.0</td>\n",
       "      <td>52.027821</td>\n",
       "    </tr>\n",
       "    <tr>\n",
       "      <th>2</th>\n",
       "      <td>1027</td>\n",
       "      <td>79.250000</td>\n",
       "      <td>100.631153</td>\n",
       "      <td>4.0</td>\n",
       "      <td>44.306369</td>\n",
       "    </tr>\n",
       "    <tr>\n",
       "      <th>3</th>\n",
       "      <td>757</td>\n",
       "      <td>83.900379</td>\n",
       "      <td>4.061038</td>\n",
       "      <td>4.0</td>\n",
       "      <td>36.539568</td>\n",
       "    </tr>\n",
       "    <tr>\n",
       "      <th>4</th>\n",
       "      <td>1810</td>\n",
       "      <td>98.482994</td>\n",
       "      <td>43.264429</td>\n",
       "      <td>10.0</td>\n",
       "      <td>38.405117</td>\n",
       "    </tr>\n",
       "  </tbody>\n",
       "</table>\n",
       "</div>"
      ],
      "text/plain": [
       "   Steps  Hearth Rate  Burned Energy Active  Flights Climbed  health_score\n",
       "0    337    60.024922            215.148064              3.0     53.913653\n",
       "1    962    60.000000            152.363687              1.0     52.027821\n",
       "2   1027    79.250000            100.631153              4.0     44.306369\n",
       "3    757    83.900379              4.061038              4.0     36.539568\n",
       "4   1810    98.482994             43.264429             10.0     38.405117"
      ]
     },
     "execution_count": 338,
     "metadata": {},
     "output_type": "execute_result"
    }
   ],
   "source": [
    "combined_data.head()"
   ]
  },
  {
   "cell_type": "markdown",
   "metadata": {},
   "source": [
    "## Linear Reggression"
   ]
  },
  {
   "cell_type": "code",
   "execution_count": 331,
   "metadata": {},
   "outputs": [
    {
     "name": "stdout",
     "output_type": "stream",
     "text": [
      "Mean Squared Error: 3.4089357450074473\n"
     ]
    }
   ],
   "source": [
    "from sklearn.model_selection import train_test_split\n",
    "from sklearn.linear_model import LinearRegression\n",
    "from sklearn.metrics import mean_squared_error\n",
    "\n",
    "# Select features and label\n",
    "X = combined_data[['Steps', 'Hearth Rate', 'Burned Energy Active', 'Flights Climbed']]  # replace with actual features\n",
    "y = combined_data['health_score']\n",
    "\n",
    "# Split the data\n",
    "X_train, X_test, y_train, y_test = train_test_split(X, y, test_size=0.2, random_state=42)\n",
    "\n",
    "# Train the model\n",
    "model = LinearRegression()\n",
    "model.fit(X_train, y_train)\n",
    "\n",
    "# Evaluate the model\n",
    "predictions = model.predict(X_test)\n",
    "mse = mean_squared_error(y_test, predictions)\n",
    "print(f\"Mean Squared Error: {mse}\")\n",
    "\n"
   ]
  },
  {
   "cell_type": "markdown",
   "metadata": {},
   "source": [
    "## Decision Tree"
   ]
  },
  {
   "cell_type": "code",
   "execution_count": 332,
   "metadata": {},
   "outputs": [
    {
     "name": "stdout",
     "output_type": "stream",
     "text": [
      "Decision Tree MSE: 0.8473912674888868\n"
     ]
    }
   ],
   "source": [
    "from sklearn.tree import DecisionTreeRegressor\n",
    "\n",
    "# Initialize and train the model\n",
    "tree_model = DecisionTreeRegressor(random_state=42)\n",
    "tree_model.fit(X_train, y_train)\n",
    "\n",
    "# Evaluate the model\n",
    "tree_predictions = tree_model.predict(X_test)\n",
    "tree_mse = mean_squared_error(y_test, tree_predictions)\n",
    "print(f\"Decision Tree MSE: {tree_mse}\")\n"
   ]
  },
  {
   "cell_type": "markdown",
   "metadata": {},
   "source": [
    "## Random Forest"
   ]
  },
  {
   "cell_type": "code",
   "execution_count": 333,
   "metadata": {},
   "outputs": [
    {
     "name": "stdout",
     "output_type": "stream",
     "text": [
      "Random Forest MSE: 0.7432448165241078\n"
     ]
    }
   ],
   "source": [
    "from sklearn.ensemble import RandomForestRegressor\n",
    "\n",
    "# Initialize and train the model\n",
    "forest_model = RandomForestRegressor(n_estimators=100, random_state=42)\n",
    "forest_model.fit(X_train, y_train)\n",
    "\n",
    "# Evaluate the model\n",
    "forest_predictions = forest_model.predict(X_test)\n",
    "forest_mse = mean_squared_error(y_test, forest_predictions)\n",
    "print(f\"Random Forest MSE: {forest_mse}\")"
   ]
  },
  {
   "cell_type": "markdown",
   "metadata": {},
   "source": [
    "## Gradient Boosting "
   ]
  },
  {
   "cell_type": "code",
   "execution_count": 334,
   "metadata": {},
   "outputs": [
    {
     "name": "stdout",
     "output_type": "stream",
     "text": [
      "Gradient Boosting MSE: 0.4109281482899487\n"
     ]
    }
   ],
   "source": [
    "from sklearn.ensemble import GradientBoostingRegressor\n",
    "\n",
    "# Initialize and train the model\n",
    "gb_model = GradientBoostingRegressor(random_state=42)\n",
    "gb_model.fit(X_train, y_train)\n",
    "\n",
    "# Evaluate the model\n",
    "gb_predictions = gb_model.predict(X_test)\n",
    "gb_mse = mean_squared_error(y_test, gb_predictions)\n",
    "print(f\"Gradient Boosting MSE: {gb_mse}\")\n"
   ]
  },
  {
   "cell_type": "markdown",
   "metadata": {},
   "source": [
    "## SVR Boosting"
   ]
  },
  {
   "cell_type": "code",
   "execution_count": 335,
   "metadata": {},
   "outputs": [
    {
     "name": "stdout",
     "output_type": "stream",
     "text": [
      "SVR MSE: 9.110262832567836\n"
     ]
    }
   ],
   "source": [
    "from sklearn.svm import SVR\n",
    "\n",
    "# Initialize and train the model\n",
    "svr_model = SVR()\n",
    "svr_model.fit(X_train, y_train)\n",
    "\n",
    "# Evaluate the model\n",
    "svr_predictions = svr_model.predict(X_test)\n",
    "svr_mse = mean_squared_error(y_test, svr_predictions)\n",
    "print(f\"SVR MSE: {svr_mse}\")\n"
   ]
  },
  {
   "cell_type": "markdown",
   "metadata": {},
   "source": [
    "The Gradient Boosting Regressor produced the best results in terms of Mean Squared Error (MSE) after many machine learning models were investigated for predicting the health score based on data such as Steps, Heart Rate, Burned Energy Active, and Flights Climbed. A comparative study of multiple models, including the Linear Regression, Decision Tree, Random Forest, Support Vector (SVR), and Gradient Boosting Regressor models, led to this finding."
   ]
  }
 ],
 "metadata": {
  "kernelspec": {
   "display_name": "base",
   "language": "python",
   "name": "python3"
  },
  "language_info": {
   "codemirror_mode": {
    "name": "ipython",
    "version": 3
   },
   "file_extension": ".py",
   "mimetype": "text/x-python",
   "name": "python",
   "nbconvert_exporter": "python",
   "pygments_lexer": "ipython3",
   "version": "3.9.12"
  }
 },
 "nbformat": 4,
 "nbformat_minor": 2
}
